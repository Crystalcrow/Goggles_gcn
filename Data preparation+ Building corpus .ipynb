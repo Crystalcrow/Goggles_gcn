{
 "cells": [
  {
   "cell_type": "markdown",
   "metadata": {},
   "source": [
    "This notebook - \n",
    "1. preprocesses the data from train and test csv. (raw data coming from annotation)\n",
    "2. Prepare the data, builds graph (word - word relation, word-doc relation). \n",
    "3. Builds Courpus for smooth text gcn implementation."
   ]
  },
  {
   "cell_type": "code",
   "execution_count": 29,
   "metadata": {},
   "outputs": [],
   "source": [
    "import pandas as pd\n",
    "import numpy as np\n",
    "import re"
   ]
  },
  {
   "cell_type": "code",
   "execution_count": 30,
   "metadata": {},
   "outputs": [],
   "source": [
    "common_path = \"C:/Users/adity/OneDrive/Desktop/nlu_course/Goggles_gcn/\"\n",
    "\n",
    "train_csv = common_path + 'train.csv'\n",
    "test_csv = common_path + 'test.csv'"
   ]
  },
  {
   "cell_type": "code",
   "execution_count": 31,
   "metadata": {},
   "outputs": [],
   "source": [
    "def zone_text_converter(val):\n",
    "    val = re.sub(r'([^\\s\\w.,]|_)+', '', val).lower()\n",
    "    val = re.sub(r',+', '.', val)\n",
    "    val = re.sub(r'\\d+', '', val)\n",
    "    val = re.sub(r' +',' ',val)\n",
    "    return val"
   ]
  },
  {
   "cell_type": "code",
   "execution_count": 32,
   "metadata": {},
   "outputs": [],
   "source": [
    "def field_converter(val):\n",
    "    return val.lower().replace(' ', '')"
   ]
  },
  {
   "cell_type": "code",
   "execution_count": 33,
   "metadata": {},
   "outputs": [],
   "source": [
    "from nltk.corpus import stopwords"
   ]
  },
  {
   "cell_type": "code",
   "execution_count": 34,
   "metadata": {},
   "outputs": [],
   "source": [
    "# def preprocess(s, word_remove_list=None):\n",
    "#     stop_words = set(stopwords.words('english'))\n",
    "# #     print(stop_words)\n",
    "#     x = s.split()\n",
    "#     filtered_words = []\n",
    "#     for w in x:\n",
    "#         if w not in stop_words and len(w)>1:\n",
    "#             filtered_words.append(w)\n",
    "#     return((' ').join(filtered_words))"
   ]
  },
  {
   "cell_type": "code",
   "execution_count": 35,
   "metadata": {},
   "outputs": [],
   "source": [
    "train_df = pd.read_csv(train_csv, index_col=0, converters={'zone_text': zone_text_converter, 'subject': field_converter,\n",
    "                                           'grade': field_converter, 'syllabus': field_converter})\n",
    "test_df = pd.read_csv(test_csv, index_col=0, converters={'zone_text': zone_text_converter, 'subject': field_converter,\n",
    "                                           'grade': field_converter, 'syllabus': field_converter})"
   ]
  },
  {
   "cell_type": "code",
   "execution_count": 36,
   "metadata": {},
   "outputs": [],
   "source": [
    "train_df = train_df[train_df.category_type=='lesson']\n",
    "test_df = test_df[test_df.category_type=='lesson']"
   ]
  },
  {
   "cell_type": "code",
   "execution_count": 37,
   "metadata": {},
   "outputs": [],
   "source": [
    "L_train=[]\n",
    "text_train_list = list(train_df['zone_text'])\n",
    "label_train_list = list(train_df['annotation_id'])"
   ]
  },
  {
   "cell_type": "code",
   "execution_count": 38,
   "metadata": {},
   "outputs": [
    {
     "data": {
      "text/plain": [
       "['before we solve problems involving direction of current . direction of magnetic field and the direction of force by using fleming s left hand rule . we should keep the following points in mind i by convention . the direction of flow of positive charges is taken to be the direction of flow of current . so . the direction in which the positively charged particles such as protons or alpha particles . etc . . move will be the direction of electric current . ii the direction of electric current is . however . taken to be opposite to the direction of flow of negative charges such as electrons . so . if we are given the direction of flow of electrons . then the direction of electric current will be taken as opposite to the direction of flow of electrons . iii the direction of deflection of a current carrying conductor or a stream of positively charged particles or a stream of negatively charged particles like electrons tells us the direction of force acting on it . let us solve some problems now .',\n",
       " 'sources of geothermal energy . the geothermal energy is harnessed as follows ',\n",
       " 'wind energy definition flow of air is called wind . it possesses enormous energy . as the energy is due to motion of air during its flow . the energy is kinetic . source of wind energy solar energy heats the entire earth but the heating is not uniform . the heating is more intense near the equator than in the polar region . this makes air in the equator region more hot and light . it rises up and its space is filled with the cooler air from polar region . in this way air flows from colder region at high pressure to hotter region at low pressure . the flow of air from one place to other constitutes wind . the smooth flow of air is disturbed continuously by rotation of the earth as well as by the local conditions . due to these interacting factor the wind speed may vary from km h to about km h gentle breeze to very high speed of about km h of a storm tornado .']"
      ]
     },
     "execution_count": 38,
     "metadata": {},
     "output_type": "execute_result"
    }
   ],
   "source": [
    "text_train_list[:3]"
   ]
  },
  {
   "cell_type": "code",
   "execution_count": 39,
   "metadata": {},
   "outputs": [
    {
     "data": {
      "text/plain": [
       "[730, 764, 753]"
      ]
     },
     "execution_count": 39,
     "metadata": {},
     "output_type": "execute_result"
    }
   ],
   "source": [
    "label_train_list[:3]"
   ]
  },
  {
   "cell_type": "code",
   "execution_count": 40,
   "metadata": {},
   "outputs": [
    {
     "data": {
      "text/plain": [
       "2074"
      ]
     },
     "execution_count": 40,
     "metadata": {},
     "output_type": "execute_result"
    }
   ],
   "source": [
    "len(text_train_list)"
   ]
  },
  {
   "cell_type": "code",
   "execution_count": 41,
   "metadata": {},
   "outputs": [],
   "source": [
    "for i in range(len(text_train_list)):\n",
    "    s = 'train'\n",
    "    L_train.append(s)"
   ]
  },
  {
   "cell_type": "code",
   "execution_count": 42,
   "metadata": {},
   "outputs": [
    {
     "data": {
      "text/plain": [
       "['train',\n",
       " 'train',\n",
       " 'train',\n",
       " 'train',\n",
       " 'train',\n",
       " 'train',\n",
       " 'train',\n",
       " 'train',\n",
       " 'train',\n",
       " 'train']"
      ]
     },
     "execution_count": 42,
     "metadata": {},
     "output_type": "execute_result"
    }
   ],
   "source": [
    "L_train[:10]"
   ]
  },
  {
   "cell_type": "code",
   "execution_count": 43,
   "metadata": {},
   "outputs": [],
   "source": [
    "L_test=[]\n",
    "text_test_list = list(test_df['zone_text'])\n",
    "label_test_list = list(test_df['annotation_id'])"
   ]
  },
  {
   "cell_type": "code",
   "execution_count": 44,
   "metadata": {},
   "outputs": [
    {
     "data": {
      "text/plain": [
       "['let us perform an experiment to verify this fact . take a straight copper rod . suspend it horizontally by means of two connecting wires between the poles of a strong horseshoe magnet as shown in figure . a and b . if a current is now passed in the rod as shown in figure . a . you will observe that the rod gets displaced . this displacement is caused by the force acting on the current carrying rod . in accordance with fleming s left hand rule . the magnet exerts a force on the rod directed upwards . with the result that the rod will get deflected upwards . now . reverse the direction of current or interchange the poles of the magnet as shown in figure . b . you will observe that the rod is now displaced downwards i . e . . deflection of the rod has reversed . this indicates that the direction of the force acting on the rod has reversed .',\n",
       " 'equivalent resistance in parallel connection figure . a shows three resistors of resistances r . r and r connected in parallel across the points a and b . the cell connected across these two points maintains a potential difference v across each resistor . the current through the cell is i . it gets divided at a into three parts iſ . in and iz . which flow through r . r and r respectively . reg fig . . let us replace the combination of resistors by an equivalent resistor reg such that the current i in the circuit does not change figure . a . the equivalent resistance is given by ohm s law as req v i . thus . rea the currents iż . iż and iz through the resistors r . r and r respectively are given by ohm s law as since the resistors are in parallel . i iz iz iz .',\n",
       " 'table . symbols of electrical elements used in electrical circuits . m lamp or load connecting wire wires crossing wires connected together e a cell battery ac source fixed resistance rheostat g hey switch off voltmeter ammeter galvanometer ground earth o key open switch closed key closed variable resistance . lamp or load it is an arrangement across which the output is obtained .']"
      ]
     },
     "execution_count": 44,
     "metadata": {},
     "output_type": "execute_result"
    }
   ],
   "source": [
    "text_test_list[:3]"
   ]
  },
  {
   "cell_type": "code",
   "execution_count": 45,
   "metadata": {},
   "outputs": [
    {
     "data": {
      "text/plain": [
       "508"
      ]
     },
     "execution_count": 45,
     "metadata": {},
     "output_type": "execute_result"
    }
   ],
   "source": [
    "len(text_test_list)"
   ]
  },
  {
   "cell_type": "code",
   "execution_count": 46,
   "metadata": {},
   "outputs": [],
   "source": [
    "for i in range(len(text_test_list)):\n",
    "    s = 'test'\n",
    "    L_test.append(s)"
   ]
  },
  {
   "cell_type": "code",
   "execution_count": 47,
   "metadata": {},
   "outputs": [],
   "source": [
    "sentences = text_train_list\n",
    "sentences.extend(text_test_list)"
   ]
  },
  {
   "cell_type": "code",
   "execution_count": 48,
   "metadata": {},
   "outputs": [
    {
     "name": "stdout",
     "output_type": "stream",
     "text": [
      "2582\n"
     ]
    }
   ],
   "source": [
    "print(len(sentences))"
   ]
  },
  {
   "cell_type": "code",
   "execution_count": 49,
   "metadata": {},
   "outputs": [
    {
     "name": "stdout",
     "output_type": "stream",
     "text": [
      "let us perform an experiment to verify this fact . take a straight copper rod . suspend it horizontally by means of two connecting wires between the poles of a strong horseshoe magnet as shown in figure . a and b . if a current is now passed in the rod as shown in figure . a . you will observe that the rod gets displaced . this displacement is caused by the force acting on the current carrying rod . in accordance with fleming s left hand rule . the magnet exerts a force on the rod directed upwards . with the result that the rod will get deflected upwards . now . reverse the direction of current or interchange the poles of the magnet as shown in figure . b . you will observe that the rod is now displaced downwards i . e . . deflection of the rod has reversed . this indicates that the direction of the force acting on the rod has reversed .\n"
     ]
    }
   ],
   "source": [
    "print(sentences[2074])"
   ]
  },
  {
   "cell_type": "code",
   "execution_count": 50,
   "metadata": {},
   "outputs": [
    {
     "name": "stdout",
     "output_type": "stream",
     "text": [
      "2582\n"
     ]
    }
   ],
   "source": [
    "labels = label_train_list\n",
    "labels.extend(label_test_list)\n",
    "print(len(labels))"
   ]
  },
  {
   "cell_type": "code",
   "execution_count": 51,
   "metadata": {},
   "outputs": [
    {
     "data": {
      "text/plain": [
       "726"
      ]
     },
     "execution_count": 51,
     "metadata": {},
     "output_type": "execute_result"
    }
   ],
   "source": [
    "labels[2074]"
   ]
  },
  {
   "cell_type": "code",
   "execution_count": 52,
   "metadata": {
    "scrolled": true
   },
   "outputs": [
    {
     "name": "stdout",
     "output_type": "stream",
     "text": [
      "['730', '764', '753']\n",
      "<class 'str'>\n"
     ]
    }
   ],
   "source": [
    "#Converting labels into string\n",
    "\n",
    "labels = [str(i) for i in labels]\n",
    "print(labels[:3])\n",
    "print(type(labels[2074]))"
   ]
  },
  {
   "cell_type": "code",
   "execution_count": 53,
   "metadata": {},
   "outputs": [
    {
     "data": {
      "text/plain": [
       "2582"
      ]
     },
     "execution_count": 53,
     "metadata": {},
     "output_type": "execute_result"
    }
   ],
   "source": [
    "train_or_test_list = L_train\n",
    "train_or_test_list.extend(L_test)\n",
    "len(train_or_test_list)"
   ]
  },
  {
   "cell_type": "code",
   "execution_count": 54,
   "metadata": {},
   "outputs": [],
   "source": [
    "#Creating the datset - 2 txt files (Goggles.txt in data folder and Goggles.txt in data/corpus folder)\n",
    "\n",
    "dataset_name = 'Goggles'\n",
    "\n",
    "meta_data_list = []\n",
    "\n",
    "for i in range(len(sentences)):\n",
    "    meta = str(i) + '\\t' + train_or_test_list[i] + '\\t' + labels[i]\n",
    "    meta_data_list.append(meta)\n",
    "\n",
    "meta_data_str = '\\n'.join(meta_data_list)\n",
    "\n",
    "f = open('pyG_implement/data/' + dataset_name + '.txt', 'w') \n",
    "f.write(meta_data_str)\n",
    "f.close()\n",
    "\n",
    "\n",
    "corpus_str = '\\n'.join(sentences)\n",
    "\n",
    "f = open('pyG_implement/data/corpus/' + dataset_name + '.txt', 'w', encoding=\"utf-8\")\n",
    "f.write(corpus_str)\n",
    "f.close()"
   ]
  },
  {
   "cell_type": "markdown",
   "metadata": {},
   "source": [
    "### Removing stopwords and cleaning data\n",
    "\n",
    "Output - Goggles.clean.txt file"
   ]
  },
  {
   "cell_type": "code",
   "execution_count": 55,
   "metadata": {},
   "outputs": [
    {
     "name": "stderr",
     "output_type": "stream",
     "text": [
      "[nltk_data] Downloading package stopwords to\n",
      "[nltk_data]     C:\\Users\\adity\\AppData\\Roaming\\nltk_data...\n",
      "[nltk_data]   Package stopwords is already up-to-date!\n"
     ]
    },
    {
     "name": "stdout",
     "output_type": "stream",
     "text": [
      "{'after', \"hadn't\", 'she', 'been', 'no', 'which', 'be', 'such', 'ourselves', 'a', 'am', 'off', 'under', 'nor', 'most', 'very', 'or', \"should've\", \"don't\", 'not', 'didn', 'then', 'have', 'theirs', 'this', \"isn't\", 'by', \"you've\", 'will', 'my', 'needn', 'now', 'he', 'if', 'why', 'whom', 'won', \"shan't\", 'so', 't', 'where', 'shouldn', 'they', 'up', 'couldn', 'are', \"you're\", 'hasn', 'each', 'down', 'y', 'wasn', 'what', 'before', 'had', 'there', 'an', \"needn't\", 'of', 'you', 'their', 'the', 'doesn', 've', \"you'll\", 'has', 'do', 'hers', 'and', 'above', 'some', 'on', 'll', 'between', 'same', 'd', \"couldn't\", 'don', 'below', 'only', 'isn', 'all', 'but', 'our', 'should', 'were', 'ours', 'to', 'aren', \"wasn't\", 'than', 'did', 'wouldn', 'more', \"it's\", 'during', 'ain', 'in', 'is', 'its', 'here', 'mustn', 'with', 'it', 'i', 'at', 'herself', 'yourselves', 'being', 'when', 'once', 'o', \"wouldn't\", \"aren't\", \"haven't\", \"won't\", \"mustn't\", 'for', 'having', 'over', 'her', 'themselves', 'how', \"didn't\", 'these', 'other', 'me', 'can', 'we', 'too', 'your', \"mightn't\", \"she's\", 'm', 'weren', 'until', 'further', 'mightn', 'against', 'them', 'again', \"shouldn't\", 'his', 'through', 'him', \"that'll\", 'that', 'yourself', 'hadn', \"you'd\", 'out', 'those', 'yours', 'while', 'does', 'himself', 'myself', 'doing', 're', 'about', 'ma', 'itself', 's', 'was', 'few', 'from', 'just', \"weren't\", 'haven', 'own', \"doesn't\", 'shan', 'any', 'both', \"hasn't\", 'into', 'because', 'as', 'who'}\n",
      "min_len : 2\n",
      "max_len : 555\n",
      "average_len : 42.91828040278853\n"
     ]
    }
   ],
   "source": [
    "from nltk.corpus import stopwords\n",
    "import nltk\n",
    "from nltk.wsd import lesk\n",
    "from nltk.corpus import wordnet as wn\n",
    "from utils import clean_str, loadWord2Vec\n",
    "import sys\n",
    "\n",
    "\n",
    "dataset = 'Goggles'\n",
    "\n",
    "nltk.download('stopwords')\n",
    "stop_words = set(stopwords.words('english'))\n",
    "print(stop_words)\n",
    "\n",
    "# Read Word Vectors\n",
    "# word_vector_file = 'pyG_implement/data/glove.6B/glove.6B.200d.txt'\n",
    "# vocab, embd, word_vector_map = loadWord2Vec(word_vector_file)\n",
    "# word_embeddings_dim = len(embd[0])\n",
    "# dataset = ''\n",
    "\n",
    "doc_content_list = []\n",
    "f = open('pyG_implement/data/corpus/' + dataset + '.txt', 'rb')\n",
    "# f = open('pyG_implement/data/wiki_long_abstracts_en_text.txt', 'r')\n",
    "for line in f.readlines():\n",
    "    doc_content_list.append(line.strip().decode('latin1'))\n",
    "f.close()\n",
    "\n",
    "\n",
    "word_freq = {}  # to remove rare words\n",
    "\n",
    "for doc_content in doc_content_list:\n",
    "    temp = clean_str(doc_content)\n",
    "    words = temp.split()\n",
    "    for word in words:\n",
    "        if word in word_freq:\n",
    "            word_freq[word] += 1\n",
    "        else:\n",
    "            word_freq[word] = 1\n",
    "\n",
    "clean_docs = []\n",
    "for doc_content in doc_content_list:\n",
    "    temp = clean_str(doc_content)\n",
    "    words = temp.split()\n",
    "    doc_words = []\n",
    "    for word in words:\n",
    "        # word not in stop_words and word_freq[word] >= 5\n",
    "        if dataset == 'mr':\n",
    "            doc_words.append(word)\n",
    "        elif word not in stop_words and word_freq[word] >= 1:\n",
    "            doc_words.append(word)\n",
    "\n",
    "    doc_str = ' '.join(doc_words).strip()\n",
    "    #if doc_str == '':\n",
    "        #doc_str = temp\n",
    "    clean_docs.append(doc_str)\n",
    "\n",
    "clean_corpus_str = '\\n'.join(clean_docs)\n",
    "\n",
    "f = open('pyG_implement/data/corpus/' + dataset + '.clean.txt', 'w')\n",
    "#f = open('pyG_implement/data/wiki_long_abstracts_en_text.clean.txt', 'w')\n",
    "f.write(clean_corpus_str)\n",
    "f.close()\n",
    "\n",
    "#dataset = '20ng'\n",
    "min_len = 10000\n",
    "aver_len = 0\n",
    "max_len = 0 \n",
    "\n",
    "f = open('pyG_implement/data/corpus/' + dataset + '.clean.txt', 'r')\n",
    "#f = open('pyG_implement/data/wiki_long_abstracts_en_text.txt', 'r')\n",
    "lines = f.readlines()\n",
    "for line in lines:\n",
    "    line = line.strip()\n",
    "    temp = line.split()\n",
    "    aver_len = aver_len + len(temp)\n",
    "    if len(temp) < min_len:\n",
    "        min_len = len(temp)\n",
    "    if len(temp) > max_len:\n",
    "        max_len = len(temp)\n",
    "f.close()\n",
    "aver_len = 1.0 * aver_len / len(lines)\n",
    "print('min_len : ' + str(min_len))\n",
    "print('max_len : ' + str(max_len))\n",
    "print('average_len : ' + str(aver_len))\n"
   ]
  },
  {
   "cell_type": "code",
   "execution_count": null,
   "metadata": {},
   "outputs": [],
   "source": []
  },
  {
   "cell_type": "markdown",
   "metadata": {},
   "source": [
    "### Building graph (word - word relation, word-doc relation) \n",
    "Same as build_graph.py\n",
    "\n",
    "Creates multiple txt files to be used in traing and testing"
   ]
  },
  {
   "cell_type": "code",
   "execution_count": null,
   "metadata": {},
   "outputs": [],
   "source": []
  },
  {
   "cell_type": "code",
   "execution_count": 56,
   "metadata": {},
   "outputs": [
    {
     "name": "stdout",
     "output_type": "stream",
     "text": [
      "[0, 1, 2, 3, 4, 5, 6, 7, 8, 9, 10, 11, 12, 13, 14, 15, 16, 17, 18, 19, 20, 21, 22, 23, 24, 25, 26, 27, 28, 29, 30, 31, 32, 33, 34, 35, 36, 37, 38, 39, 40, 41, 42, 43, 44, 45, 46, 47, 48, 49, 50, 51, 52, 53, 54, 55, 56, 57, 58, 59, 60, 61, 62, 63, 64, 65, 66, 67, 68, 69, 70, 71, 72, 73, 74, 75, 76, 77, 78, 79, 80, 81, 82, 83, 84, 85, 86, 87, 88, 89, 90, 91, 92, 93, 94, 95, 96, 97, 98, 99, 100, 101, 102, 103, 104, 105, 106, 107, 108, 109, 110, 111, 112, 113, 114, 115, 116, 117, 118, 119, 120, 121, 122, 123, 124, 125, 126, 127, 128, 129, 130, 131, 132, 133, 134, 135, 136, 137, 138, 139, 140, 141, 142, 143, 144, 145, 146, 147, 148, 149, 150, 151, 152, 153, 154, 155, 156, 157, 158, 159, 160, 161, 162, 163, 164, 165, 166, 167, 168, 169, 170, 171, 172, 173, 174, 175, 176, 177, 178, 179, 180, 181, 182, 183, 184, 185, 186, 187, 188, 189, 190, 191, 192, 193, 194, 195, 196, 197, 198, 199, 200, 201, 202, 203, 204, 205, 206, 207, 208, 209, 210, 211, 212, 213, 214, 215, 216, 217, 218, 219, 220, 221, 222, 223, 224, 225, 226, 227, 228, 229, 230, 231, 232, 233, 234, 235, 236, 237, 238, 239, 240, 241, 242, 243, 244, 245, 246, 247, 248, 249, 250, 251, 252, 253, 254, 255, 256, 257, 258, 259, 260, 261, 262, 263, 264, 265, 266, 267, 268, 269, 270, 271, 272, 273, 274, 275, 276, 277, 278, 279, 280, 281, 282, 283, 284, 285, 286, 287, 288, 289, 290, 291, 292, 293, 294, 295, 296, 297, 298, 299, 300, 301, 302, 303, 304, 305, 306, 307, 308, 309, 310, 311, 312, 313, 314, 315, 316, 317, 318, 319, 320, 321, 322, 323, 324, 325, 326, 327, 328, 329, 330, 331, 332, 333, 334, 335, 336, 337, 338, 339, 340, 341, 342, 343, 344, 345, 346, 347, 348, 349, 350, 351, 352, 353, 354, 355, 356, 357, 358, 359, 360, 361, 362, 363, 364, 365, 366, 367, 368, 369, 370, 371, 372, 373, 374, 375, 376, 377, 378, 379, 380, 381, 382, 383, 384, 385, 386, 387, 388, 389, 390, 391, 392, 393, 394, 395, 396, 397, 398, 399, 400, 401, 402, 403, 404, 405, 406, 407, 408, 409, 410, 411, 412, 413, 414, 415, 416, 417, 418, 419, 420, 421, 422, 423, 424, 425, 426, 427, 428, 429, 430, 431, 432, 433, 434, 435, 436, 437, 438, 439, 440, 441, 442, 443, 444, 445, 446, 447, 448, 449, 450, 451, 452, 453, 454, 455, 456, 457, 458, 459, 460, 461, 462, 463, 464, 465, 466, 467, 468, 469, 470, 471, 472, 473, 474, 475, 476, 477, 478, 479, 480, 481, 482, 483, 484, 485, 486, 487, 488, 489, 490, 491, 492, 493, 494, 495, 496, 497, 498, 499, 500, 501, 502, 503, 504, 505, 506, 507, 508, 509, 510, 511, 512, 513, 514, 515, 516, 517, 518, 519, 520, 521, 522, 523, 524, 525, 526, 527, 528, 529, 530, 531, 532, 533, 534, 535, 536, 537, 538, 539, 540, 541, 542, 543, 544, 545, 546, 547, 548, 549, 550, 551, 552, 553, 554, 555, 556, 557, 558, 559, 560, 561, 562, 563, 564, 565, 566, 567, 568, 569, 570, 571, 572, 573, 574, 575, 576, 577, 578, 579, 580, 581, 582, 583, 584, 585, 586, 587, 588, 589, 590, 591, 592, 593, 594, 595, 596, 597, 598, 599, 600, 601, 602, 603, 604, 605, 606, 607, 608, 609, 610, 611, 612, 613, 614, 615, 616, 617, 618, 619, 620, 621, 622, 623, 624, 625, 626, 627, 628, 629, 630, 631, 632, 633, 634, 635, 636, 637, 638, 639, 640, 641, 642, 643, 644, 645, 646, 647, 648, 649, 650, 651, 652, 653, 654, 655, 656, 657, 658, 659, 660, 661, 662, 663, 664, 665, 666, 667, 668, 669, 670, 671, 672, 673, 674, 675, 676, 677, 678, 679, 680, 681, 682, 683, 684, 685, 686, 687, 688, 689, 690, 691, 692, 693, 694, 695, 696, 697, 698, 699, 700, 701, 702, 703, 704, 705, 706, 707, 708, 709, 710, 711, 712, 713, 714, 715, 716, 717, 718, 719, 720, 721, 722, 723, 724, 725, 726, 727, 728, 729, 730, 731, 732, 733, 734, 735, 736, 737, 738, 739, 740, 741, 742, 743, 744, 745, 746, 747, 748, 749, 750, 751, 752, 753, 754, 755, 756, 757, 758, 759, 760, 761, 762, 763, 764, 765, 766, 767, 768, 769, 770, 771, 772, 773, 774, 775, 776, 777, 778, 779, 780, 781, 782, 783, 784, 785, 786, 787, 788, 789, 790, 791, 792, 793, 794, 795, 796, 797, 798, 799, 800, 801, 802, 803, 804, 805, 806, 807, 808, 809, 810, 811, 812, 813, 814, 815, 816, 817, 818, 819, 820, 821, 822, 823, 824, 825, 826, 827, 828, 829, 830, 831, 832, 833, 834, 835, 836, 837, 838, 839, 840, 841, 842, 843, 844, 845, 846, 847, 848, 849, 850, 851, 852, 853, 854, 855, 856, 857, 858, 859, 860, 861, 862, 863, 864, 865, 866, 867, 868, 869, 870, 871, 872, 873, 874, 875, 876, 877, 878, 879, 880, 881, 882, 883, 884, 885, 886, 887, 888, 889, 890, 891, 892, 893, 894, 895, 896, 897, 898, 899, 900, 901, 902, 903, 904, 905, 906, 907, 908, 909, 910, 911, 912, 913, 914, 915, 916, 917, 918, 919, 920, 921, 922, 923, 924, 925, 926, 927, 928, 929, 930, 931, 932, 933, 934, 935, 936, 937, 938, 939, 940, 941, 942, 943, 944, 945, 946, 947, 948, 949, 950, 951, 952, 953, 954, 955, 956, 957, 958, 959, 960, 961, 962, 963, 964, 965, 966, 967, 968, 969, 970, 971, 972, 973, 974, 975, 976, 977, 978, 979, 980, 981, 982, 983, 984, 985, 986, 987, 988, 989, 990, 991, 992, 993, 994, 995, 996, 997, 998, 999, 1000, 1001, 1002, 1003, 1004, 1005, 1006, 1007, 1008, 1009, 1010, 1011, 1012, 1013, 1014, 1015, 1016, 1017, 1018, 1019, 1020, 1021, 1022, 1023, 1024, 1025, 1026, 1027, 1028, 1029, 1030, 1031, 1032, 1033, 1034, 1035, 1036, 1037, 1038, 1039, 1040, 1041, 1042, 1043, 1044, 1045, 1046, 1047, 1048, 1049, 1050, 1051, 1052, 1053, 1054, 1055, 1056, 1057, 1058, 1059, 1060, 1061, 1062, 1063, 1064, 1065, 1066, 1067, 1068, 1069, 1070, 1071, 1072, 1073, 1074, 1075, 1076, 1077, 1078, 1079, 1080, 1081, 1082, 1083, 1084, 1085, 1086, 1087, 1088, 1089, 1090, 1091, 1092, 1093, 1094, 1095, 1096, 1097, 1098, 1099, 1100, 1101, 1102, 1103, 1104, 1105, 1106, 1107, 1108, 1109, 1110, 1111, 1112, 1113, 1114, 1115, 1116, 1117, 1118, 1119, 1120, 1121, 1122, 1123, 1124, 1125, 1126, 1127, 1128, 1129, 1130, 1131, 1132, 1133, 1134, 1135, 1136, 1137, 1138, 1139, 1140, 1141, 1142, 1143, 1144, 1145, 1146, 1147, 1148, 1149, 1150, 1151, 1152, 1153, 1154, 1155, 1156, 1157, 1158, 1159, 1160, 1161, 1162, 1163, 1164, 1165, 1166, 1167, 1168, 1169, 1170, 1171, 1172, 1173, 1174, 1175, 1176, 1177, 1178, 1179, 1180, 1181, 1182, 1183, 1184, 1185, 1186, 1187, 1188, 1189, 1190, 1191, 1192, 1193, 1194, 1195, 1196, 1197, 1198, 1199, 1200, 1201, 1202, 1203, 1204, 1205, 1206, 1207, 1208, 1209, 1210, 1211, 1212, 1213, 1214, 1215, 1216, 1217, 1218, 1219, 1220, 1221, 1222, 1223, 1224, 1225, 1226, 1227, 1228, 1229, 1230, 1231, 1232, 1233, 1234, 1235, 1236, 1237, 1238, 1239, 1240, 1241, 1242, 1243, 1244, 1245, 1246, 1247, 1248, 1249, 1250, 1251, 1252, 1253, 1254, 1255, 1256, 1257, 1258, 1259, 1260, 1261, 1262, 1263, 1264, 1265, 1266, 1267, 1268, 1269, 1270, 1271, 1272, 1273, 1274, 1275, 1276, 1277, 1278, 1279, 1280, 1281, 1282, 1283, 1284, 1285, 1286, 1287, 1288, 1289, 1290, 1291, 1292, 1293, 1294, 1295, 1296, 1297, 1298, 1299, 1300, 1301, 1302, 1303, 1304, 1305, 1306, 1307, 1308, 1309, 1310, 1311, 1312, 1313, 1314, 1315, 1316, 1317, 1318, 1319, 1320, 1321, 1322, 1323, 1324, 1325, 1326, 1327, 1328, 1329, 1330, 1331, 1332, 1333, 1334, 1335, 1336, 1337, 1338, 1339, 1340, 1341, 1342, 1343, 1344, 1345, 1346, 1347, 1348, 1349, 1350, 1351, 1352, 1353, 1354, 1355, 1356, 1357, 1358, 1359, 1360, 1361, 1362, 1363, 1364, 1365, 1366, 1367, 1368, 1369, 1370, 1371, 1372, 1373, 1374, 1375, 1376, 1377, 1378, 1379, 1380, 1381, 1382, 1383, 1384, 1385, 1386, 1387, 1388, 1389, 1390, 1391, 1392, 1393, 1394, 1395, 1396, 1397, 1398, 1399, 1400, 1401, 1402, 1403, 1404, 1405, 1406, 1407, 1408, 1409, 1410, 1411, 1412, 1413, 1414, 1415, 1416, 1417, 1418, 1419, 1420, 1421, 1422, 1423, 1424, 1425, 1426, 1427, 1428, 1429, 1430, 1431, 1432, 1433, 1434, 1435, 1436, 1437, 1438, 1439, 1440, 1441, 1442, 1443, 1444, 1445, 1446, 1447, 1448, 1449, 1450, 1451, 1452, 1453, 1454, 1455, 1456, 1457, 1458, 1459, 1460, 1461, 1462, 1463, 1464, 1465, 1466, 1467, 1468, 1469, 1470, 1471, 1472, 1473, 1474, 1475, 1476, 1477, 1478, 1479, 1480, 1481, 1482, 1483, 1484, 1485, 1486, 1487, 1488, 1489, 1490, 1491, 1492, 1493, 1494, 1495, 1496, 1497, 1498, 1499, 1500, 1501, 1502, 1503, 1504, 1505, 1506, 1507, 1508, 1509, 1510, 1511, 1512, 1513, 1514, 1515, 1516, 1517, 1518, 1519, 1520, 1521, 1522, 1523, 1524, 1525, 1526, 1527, 1528, 1529, 1530, 1531, 1532, 1533, 1534, 1535, 1536, 1537, 1538, 1539, 1540, 1541, 1542, 1543, 1544, 1545, 1546, 1547, 1548, 1549, 1550, 1551, 1552, 1553, 1554, 1555, 1556, 1557, 1558, 1559, 1560, 1561, 1562, 1563, 1564, 1565, 1566, 1567, 1568, 1569, 1570, 1571, 1572, 1573, 1574, 1575, 1576, 1577, 1578, 1579, 1580, 1581, 1582, 1583, 1584, 1585, 1586, 1587, 1588, 1589, 1590, 1591, 1592, 1593, 1594, 1595, 1596, 1597, 1598, 1599, 1600, 1601, 1602, 1603, 1604, 1605, 1606, 1607, 1608, 1609, 1610, 1611, 1612, 1613, 1614, 1615, 1616, 1617, 1618, 1619, 1620, 1621, 1622, 1623, 1624, 1625, 1626, 1627, 1628, 1629, 1630, 1631, 1632, 1633, 1634, 1635, 1636, 1637, 1638, 1639, 1640, 1641, 1642, 1643, 1644, 1645, 1646, 1647, 1648, 1649, 1650, 1651, 1652, 1653, 1654, 1655, 1656, 1657, 1658, 1659, 1660, 1661, 1662, 1663, 1664, 1665, 1666, 1667, 1668, 1669, 1670, 1671, 1672, 1673, 1674, 1675, 1676, 1677, 1678, 1679, 1680, 1681, 1682, 1683, 1684, 1685, 1686, 1687, 1688, 1689, 1690, 1691, 1692, 1693, 1694, 1695, 1696, 1697, 1698, 1699, 1700, 1701, 1702, 1703, 1704, 1705, 1706, 1707, 1708, 1709, 1710, 1711, 1712, 1713, 1714, 1715, 1716, 1717, 1718, 1719, 1720, 1721, 1722, 1723, 1724, 1725, 1726, 1727, 1728, 1729, 1730, 1731, 1732, 1733, 1734, 1735, 1736, 1737, 1738, 1739, 1740, 1741, 1742, 1743, 1744, 1745, 1746, 1747, 1748, 1749, 1750, 1751, 1752, 1753, 1754, 1755, 1756, 1757, 1758, 1759, 1760, 1761, 1762, 1763, 1764, 1765, 1766, 1767, 1768, 1769, 1770, 1771, 1772, 1773, 1774, 1775, 1776, 1777, 1778, 1779, 1780, 1781, 1782, 1783, 1784, 1785, 1786, 1787, 1788, 1789, 1790, 1791, 1792, 1793, 1794, 1795, 1796, 1797, 1798, 1799, 1800, 1801, 1802, 1803, 1804, 1805, 1806, 1807, 1808, 1809, 1810, 1811, 1812, 1813, 1814, 1815, 1816, 1817, 1818, 1819, 1820, 1821, 1822, 1823, 1824, 1825, 1826, 1827, 1828, 1829, 1830, 1831, 1832, 1833, 1834, 1835, 1836, 1837, 1838, 1839, 1840, 1841, 1842, 1843, 1844, 1845, 1846, 1847, 1848, 1849, 1850, 1851, 1852, 1853, 1854, 1855, 1856, 1857, 1858, 1859, 1860, 1861, 1862, 1863, 1864, 1865, 1866, 1867, 1868, 1869, 1870, 1871, 1872, 1873, 1874, 1875, 1876, 1877, 1878, 1879, 1880, 1881, 1882, 1883, 1884, 1885, 1886, 1887, 1888, 1889, 1890, 1891, 1892, 1893, 1894, 1895, 1896, 1897, 1898, 1899, 1900, 1901, 1902, 1903, 1904, 1905, 1906, 1907, 1908, 1909, 1910, 1911, 1912, 1913, 1914, 1915, 1916, 1917, 1918, 1919, 1920, 1921, 1922, 1923, 1924, 1925, 1926, 1927, 1928, 1929, 1930, 1931, 1932, 1933, 1934, 1935, 1936, 1937, 1938, 1939, 1940, 1941, 1942, 1943, 1944, 1945, 1946, 1947, 1948, 1949, 1950, 1951, 1952, 1953, 1954, 1955, 1956, 1957, 1958, 1959, 1960, 1961, 1962, 1963, 1964, 1965, 1966, 1967, 1968, 1969, 1970, 1971, 1972, 1973, 1974, 1975, 1976, 1977, 1978, 1979, 1980, 1981, 1982, 1983, 1984, 1985, 1986, 1987, 1988, 1989, 1990, 1991, 1992, 1993, 1994, 1995, 1996, 1997, 1998, 1999, 2000, 2001, 2002, 2003, 2004, 2005, 2006, 2007, 2008, 2009, 2010, 2011, 2012, 2013, 2014, 2015, 2016, 2017, 2018, 2019, 2020, 2021, 2022, 2023, 2024, 2025, 2026, 2027, 2028, 2029, 2030, 2031, 2032, 2033, 2034, 2035, 2036, 2037, 2038, 2039, 2040, 2041, 2042, 2043, 2044, 2045, 2046, 2047, 2048, 2049, 2050, 2051, 2052, 2053, 2054, 2055, 2056, 2057, 2058, 2059, 2060, 2061, 2062, 2063, 2064, 2065, 2066, 2067, 2068, 2069, 2070, 2071, 2072, 2073]\n",
      "[2074, 2075, 2076, 2077, 2078, 2079, 2080, 2081, 2082, 2083, 2084, 2085, 2086, 2087, 2088, 2089, 2090, 2091, 2092, 2093, 2094, 2095, 2096, 2097, 2098, 2099, 2100, 2101, 2102, 2103, 2104, 2105, 2106, 2107, 2108, 2109, 2110, 2111, 2112, 2113, 2114, 2115, 2116, 2117, 2118, 2119, 2120, 2121, 2122, 2123, 2124, 2125, 2126, 2127, 2128, 2129, 2130, 2131, 2132, 2133, 2134, 2135, 2136, 2137, 2138, 2139, 2140, 2141, 2142, 2143, 2144, 2145, 2146, 2147, 2148, 2149, 2150, 2151, 2152, 2153, 2154, 2155, 2156, 2157, 2158, 2159, 2160, 2161, 2162, 2163, 2164, 2165, 2166, 2167, 2168, 2169, 2170, 2171, 2172, 2173, 2174, 2175, 2176, 2177, 2178, 2179, 2180, 2181, 2182, 2183, 2184, 2185, 2186, 2187, 2188, 2189, 2190, 2191, 2192, 2193, 2194, 2195, 2196, 2197, 2198, 2199, 2200, 2201, 2202, 2203, 2204, 2205, 2206, 2207, 2208, 2209, 2210, 2211, 2212, 2213, 2214, 2215, 2216, 2217, 2218, 2219, 2220, 2221, 2222, 2223, 2224, 2225, 2226, 2227, 2228, 2229, 2230, 2231, 2232, 2233, 2234, 2235, 2236, 2237, 2238, 2239, 2240, 2241, 2242, 2243, 2244, 2245, 2246, 2247, 2248, 2249, 2250, 2251, 2252, 2253, 2254, 2255, 2256, 2257, 2258, 2259, 2260, 2261, 2262, 2263, 2264, 2265, 2266, 2267, 2268, 2269, 2270, 2271, 2272, 2273, 2274, 2275, 2276, 2277, 2278, 2279, 2280, 2281, 2282, 2283, 2284, 2285, 2286, 2287, 2288, 2289, 2290, 2291, 2292, 2293, 2294, 2295, 2296, 2297, 2298, 2299, 2300, 2301, 2302, 2303, 2304, 2305, 2306, 2307, 2308, 2309, 2310, 2311, 2312, 2313, 2314, 2315, 2316, 2317, 2318, 2319, 2320, 2321, 2322, 2323, 2324, 2325, 2326, 2327, 2328, 2329, 2330, 2331, 2332, 2333, 2334, 2335, 2336, 2337, 2338, 2339, 2340, 2341, 2342, 2343, 2344, 2345, 2346, 2347, 2348, 2349, 2350, 2351, 2352, 2353, 2354, 2355, 2356, 2357, 2358, 2359, 2360, 2361, 2362, 2363, 2364, 2365, 2366, 2367, 2368, 2369, 2370, 2371, 2372, 2373, 2374, 2375, 2376, 2377, 2378, 2379, 2380, 2381, 2382, 2383, 2384, 2385, 2386, 2387, 2388, 2389, 2390, 2391, 2392, 2393, 2394, 2395, 2396, 2397, 2398, 2399, 2400, 2401, 2402, 2403, 2404, 2405, 2406, 2407, 2408, 2409, 2410, 2411, 2412, 2413, 2414, 2415, 2416, 2417, 2418, 2419, 2420, 2421, 2422, 2423, 2424, 2425, 2426, 2427, 2428, 2429, 2430, 2431, 2432, 2433, 2434, 2435, 2436, 2437, 2438, 2439, 2440, 2441, 2442, 2443, 2444, 2445, 2446, 2447, 2448, 2449, 2450, 2451, 2452, 2453, 2454, 2455, 2456, 2457, 2458, 2459, 2460, 2461, 2462, 2463, 2464, 2465, 2466, 2467, 2468, 2469, 2470, 2471, 2472, 2473, 2474, 2475, 2476, 2477, 2478, 2479, 2480, 2481, 2482, 2483, 2484, 2485, 2486, 2487, 2488, 2489, 2490, 2491, 2492, 2493, 2494, 2495, 2496, 2497, 2498, 2499, 2500, 2501, 2502, 2503, 2504, 2505, 2506, 2507, 2508, 2509, 2510, 2511, 2512, 2513, 2514, 2515, 2516, 2517, 2518, 2519, 2520, 2521, 2522, 2523, 2524, 2525, 2526, 2527, 2528, 2529, 2530, 2531, 2532, 2533, 2534, 2535, 2536, 2537, 2538, 2539, 2540, 2541, 2542, 2543, 2544, 2545, 2546, 2547, 2548, 2549, 2550, 2551, 2552, 2553, 2554, 2555, 2556, 2557, 2558, 2559, 2560, 2561, 2562, 2563, 2564, 2565, 2566, 2567, 2568, 2569, 2570, 2571, 2572, 2573, 2574, 2575, 2576, 2577, 2578, 2579, 2580, 2581]\n",
      "[189, 1298, 1430, 440, 119, 721, 1531, 807, 1546, 1625, 1408, 541, 872, 1749, 2019, 396, 1501, 1713, 166, 1005, 1505, 120, 449, 90, 91, 1752, 1595, 1783, 1559, 1376, 319, 367, 1015, 904, 477, 2023, 1697, 1186, 458, 1038, 1812, 1129, 187, 1054, 369, 988, 1818, 877, 843, 3, 671, 1388, 2064, 1242, 159, 1724, 1278, 397, 38, 1943, 673, 1535, 799, 611, 408, 965, 215, 1549, 139, 232, 259, 327, 1629, 588, 1427, 496, 1145, 1384, 578, 2070, 298, 51, 48, 1739, 529, 1555, 1069, 1612, 998, 654, 108, 633, 1524, 145, 497, 1808, 592, 125, 1193, 819, 1897, 1296, 1040, 1105, 778, 1710, 1553, 1436, 694, 1304, 856, 1082, 951, 952, 404, 675, 340, 1223, 281, 963, 1017, 1110, 1432, 417, 898, 325, 60, 1045, 1143, 936, 1234, 1144, 1134, 1748, 462, 1727, 555, 955, 1968, 1843, 2002, 300, 2021, 837, 970, 2026, 914, 1816, 178, 750, 295, 929, 1821, 1146, 151, 386, 734, 566, 1007, 1290, 571, 1717, 362, 1567, 1062, 1793, 789, 71, 1969, 1971, 1055, 664, 1756, 935, 324, 455, 1527, 427, 1641, 423, 626, 207, 1258, 163, 949, 641, 1415, 1101, 1317, 1382, 1777, 1469, 465, 220, 568, 169, 212, 2009, 1630, 1935, 1705, 1680, 886, 1768, 1114, 1628, 253, 1635, 1674, 1190, 149, 75, 1677, 1209, 1115, 535, 273, 1576, 1695, 1313, 987, 1032, 1240, 1590, 1878, 1753, 964, 1536, 11, 620, 844, 833, 193, 180, 470, 1024, 468, 1392, 1845, 1359, 861, 2032, 1582, 945, 820, 1602, 306, 1940, 366, 870, 1773, 1023, 760, 697, 1997, 800, 656, 1863, 1842, 23, 1706, 2029, 457, 806, 1112, 67, 1596, 1659, 534, 666, 1912, 1856, 857, 1672, 628, 1865, 391, 1539, 18, 1837, 689, 651, 1644, 994, 1174, 1745, 902, 631, 1220, 336, 1162, 1235, 17, 2028, 1593, 442, 1310, 1282, 1267, 878, 492, 979, 1455, 743, 126, 132, 1461, 771, 1901, 1490, 969, 1141, 1769, 1725, 614, 1269, 130, 1820, 1690, 1888, 1294, 1805, 155, 1316, 954, 2072, 1305, 229, 1831, 292, 1766, 1944, 930, 1504, 1139, 364, 1034, 338, 1259, 1263, 84, 1947, 142, 182, 1598, 104, 805, 203, 1525, 1583, 1529, 540, 1906, 565, 838, 1025, 452, 795, 483, 796, 1671, 134, 1633, 920, 1922, 1470, 723, 1909, 1279, 1836, 1657, 539, 787, 1283, 493, 1184, 1982, 1551, 776, 439, 508, 1498, 430, 1675, 1318, 1161, 766, 1754, 315, 2010, 1735, 311, 547, 850, 774, 1043, 170, 1829, 402, 1998, 1732, 269, 1778, 1026, 210, 1150, 221, 809, 225, 1956, 399, 1373, 725, 1589, 839, 290, 73, 1463, 1517, 1214, 903, 1890, 1293, 618, 285, 712, 1393, 716, 332, 1160, 331, 1369, 1866, 1324, 296, 718, 6, 1444, 431, 1872, 387, 753, 921, 1734, 608, 1098, 1273, 1053, 2055, 649, 329, 2067, 1280, 1365, 432, 1327, 581, 1014, 258, 792, 1343, 165, 915, 1196, 650, 1932, 1917, 1434, 233, 696, 1678, 1099, 304, 574, 972, 14, 1067, 1336, 1792, 1056, 1984, 732, 769, 526, 1664, 9, 1946, 384, 1176, 95, 1606, 1147, 1804, 1556, 248, 502, 123, 239, 959, 1759, 932, 35, 1117, 2052, 1027, 811, 143, 83, 2045, 254, 1870, 65, 740, 1729, 196, 662, 164, 1332, 411, 1904, 1731, 1817, 1203, 1199, 590, 1424, 1375, 1684, 562, 543, 1389, 1094, 563, 1796, 1655, 1159, 1341, 184, 1496, 823, 1751, 1289, 1232, 855, 764, 1990, 728, 1403, 394, 1764, 916, 1307, 1399, 257, 582, 1057, 842, 747, 209, 1609, 918, 2036, 546, 890, 684, 1938, 62, 1624, 1362, 901, 2053, 786, 202, 2034, 824, 552, 1874, 868, 911, 1544, 709, 118, 597, 20, 1733, 882, 1813, 1104, 1021, 1867, 934, 889, 49, 1673, 85, 1451, 1875, 1850, 2048, 307, 1012, 971, 1173, 884, 339, 1414, 2015, 1460, 1562, 1886, 1091, 1349, 1155, 636, 629, 658, 1311, 1497, 944, 895, 310, 1632, 454, 105, 78, 1474, 57, 382, 99, 2011, 1464, 244, 1421, 320, 102, 765, 1844, 112, 1608, 538, 92, 981, 393, 93, 76, 1151, 727, 818, 752, 297, 1241, 913, 1429, 1592, 1665, 0, 615, 1619, 26, 19, 863, 925, 2016, 1669, 881, 677, 271, 1107, 1422, 1070, 1913, 1213, 1714, 1130, 1450, 373, 1801, 1772, 1841, 1064, 989, 1569, 714, 739, 1095, 1707, 1588, 1573, 803, 950, 1478, 263, 1071, 1050, 1028, 171, 302, 1297, 692, 96, 59, 647, 1964, 359, 1522, 741, 1575, 1701, 137, 586, 669, 1637, 899, 173, 504, 286, 699, 619, 16, 1578, 840, 1149, 808, 357, 1742, 1016, 1506, 1846, 1217, 1552, 500, 1737, 453, 1566, 494, 414, 821, 2013, 2031, 1509, 1194, 607, 390, 813, 385, 1357, 345, 152, 1407, 144, 460, 1452, 1439, 1892, 1315, 1683, 1395, 2027, 1615, 501, 1827, 790, 1795, 443, 846, 422, 1197, 1423, 446, 1488, 1428, 1868, 1353, 46, 525, 1446, 519, 858, 1308, 706, 63, 1391, 1518, 451, 141, 1746, 2000, 1165, 1251, 1158, 288, 663, 1252, 86, 426, 1010, 4, 1993, 1954, 606, 1910, 1227, 1722, 1693, 41, 667, 1448, 2044, 490, 1814, 521, 1328, 15, 1201, 544, 354, 926, 1858, 1794, 312, 1417, 1360, 267, 1489, 1597, 1148, 1052, 1919, 1345, 2035, 1125, 1925, 1462, 512, 762, 693, 1008, 2007, 437, 2040, 378, 883, 905, 746, 1084, 74, 1325, 371, 1616, 1413, 938, 482, 1542, 1586, 157, 585, 2042, 852, 1003, 1838, 282, 812, 317, 720, 1013, 1806, 27, 1926, 1004, 1119, 1370, 1786, 270, 1557, 924, 243, 1036, 2051, 1648, 1224, 1221, 1572, 1204, 1355, 1767, 1131, 429, 1788, 1051, 1981, 1662, 1995, 1206, 94, 1100, 1018, 2062, 1087, 1322, 701, 1000, 1300, 1563, 1122, 2025, 655, 181, 528, 1687, 110, 1520, 1970, 1262, 660, 2001, 724, 480, 1031, 1584, 240, 646, 1226, 1930, 1438, 109, 1873, 33, 1604, 197, 279, 1287, 228, 1467, 624, 509, 2020, 1482, 1058, 1653, 1620, 1211, 475, 516, 1425, 1721, 845, 1941, 522, 186, 1237, 153, 1380, 80, 520, 337, 599, 433, 1835, 841, 1088, 557, 1882, 1406, 1621, 478, 231, 1936, 1634, 1902, 1716, 1168, 230, 1108, 917, 572, 604, 1991, 1442, 1636, 1431, 1666, 1128, 1543, 1152, 1006, 1047, 802, 536, 1676, 1093, 1092, 1855, 438, 284, 1507, 1927, 1830, 1479, 1136, 275, 888, 299, 1797, 985, 783, 1720, 1958, 977, 1699, 1758, 1366, 527, 1959, 1599, 505, 687, 441, 1361, 135, 1177, 1059, 1514, 343, 1730, 351, 896, 777, 133, 1228, 851, 1828, 498, 1949, 825, 1484, 1871, 464, 1643, 113, 420, 1905, 2060, 160, 1908, 1081, 1222, 729, 1757, 1650, 1255, 834, 1937, 829, 97, 1654, 719, 2008, 1963, 1948, 1775, 1782, 1111, 1700, 1205, 1368, 487, 1803, 148, 1550, 1799, 2017, 1035, 308, 2061, 748, 1418, 265, 377, 1487, 1033, 251, 1851, 960, 853, 1704, 715, 982, 991, 1377, 1178, 1156, 556, 1039, 1089, 425, 1312, 990, 1229, 360, 1264, 744, 185, 1172, 1208, 1719, 545, 1246, 1277, 1225, 1526, 262, 622, 643, 342, 707, 61, 2056, 1299, 1613, 1086, 612, 1923, 81, 21, 1340, 1210, 876, 216, 305, 1515, 1656, 1738, 1640, 567, 272, 1920, 772, 344, 2033, 573, 447, 713, 906, 1314, 1547, 1899, 472, 511, 517, 602, 1994, 1187, 1810, 630, 283, 1019, 598, 625, 708, 1860, 314, 1171, 1233, 657, 294, 1494, 781, 1848, 832, 1538, 473, 1386, 733, 1519, 129, 1351, 2066, 349, 236, 613, 678, 116, 1945, 1046, 1480, 1561, 791, 456, 335, 486, 179, 1284, 1703, 2049, 831, 722, 1009, 1420, 854, 1747, 957, 101, 1245, 495, 1869, 997, 1272, 1212, 1992, 1383, 942, 1512, 946, 36, 705, 1881, 910, 1503, 1239, 192, 218, 1371, 804, 1849, 1037, 58, 39, 648, 1216, 1243, 974, 1980, 640, 1443, 584, 2043, 1120, 1270, 637, 419, 1135, 1983, 1741, 1833, 2024, 115, 1972, 1989, 278, 1605, 28, 318, 891, 176, 147, 1074, 1236, 668, 201, 1809, 531, 1356, 1271, 1530, 1762, 1303, 1202, 1682, 2069, 1610, 1715, 1398, 2014, 1840, 690, 1124, 381, 1385, 358, 261, 761, 150, 2068, 55, 1002, 1167, 659, 476, 34, 1068, 1965, 1338, 1880, 54, 1893, 1440, 1402, 554, 1364, 1102, 1215, 409, 479, 2059, 1859, 376, 1887, 1791, 1779, 1999, 880, 1083, 1189, 1781, 2073, 241, 665, 398, 1580, 710, 1857, 1409, 591, 730, 1723, 1513, 1396, 1321, 234, 1157, 1323, 909, 131, 773, 53, 1426, 1109, 1554, 1416, 361, 111, 117, 1577, 1219, 416, 1250, 1548, 966, 199, 1853, 919, 246, 1281, 436, 782, 1973, 983, 801, 2, 1765, 1639, 195, 1097, 1854, 685, 661, 499, 1394, 1085, 168, 250, 291, 745, 816, 864, 1862, 1435, 1736, 1839, 103, 1826, 2003, 742, 1623, 1244, 907, 1924, 1096, 445, 1545, 356, 759, 1286, 680, 507, 679, 1477, 2058, 1261, 1078, 928, 617, 30, 1907, 434, 1728, 542, 569, 1291, 1603, 1879, 1285, 609, 717, 1600, 892, 933, 948, 691, 610, 836, 922, 908, 406, 1447, 260, 1192, 1466, 489, 1337, 735, 754, 1929, 1894, 1626, 1335, 471, 98, 2039, 686, 980, 849, 190, 596, 1667, 711, 1914, 817, 1121, 1265, 146, 1698, 1126, 1256, 1437, 1996, 1825, 931, 1651, 1966, 986, 1585, 183, 1231, 1780, 1230, 1740, 205, 1911, 191, 1238, 1571, 639, 1570, 1400, 1726, 616, 1784, 1080, 1565, 1404, 484, 1663, 44, 1508, 589, 532, 1195, 1661, 996, 1492, 188, 937, 1668, 1453, 1301, 1200, 676, 444, 758, 978, 1898, 1063, 1928, 326, 245, 1179, 1986, 1060, 31, 1106, 1075, 1412, 235, 466, 1175, 107, 224, 1974, 1118, 1978, 1787, 1883, 392, 1564, 1347, 400, 1950, 64, 564, 1153, 1976, 593, 975, 866, 1358, 204, 211, 379, 939, 1953, 1077, 1, 1458, 1372, 1670, 1802, 1627, 1647, 136, 140, 172, 448, 1985, 1709, 652, 1889, 226, 634, 1493, 469, 2004, 1049, 1048, 940, 583, 255, 976, 968, 1257, 154, 865, 642, 1066, 992, 798, 1689, 450, 941, 1532, 579, 82, 277, 1921, 510, 412, 322, 1951, 175, 943, 551, 815, 738, 1292, 1180, 879, 1065, 395, 580, 25, 875, 780, 627, 1247, 518, 1367, 1390, 695, 1011, 156, 871, 122, 1410, 313, 1457, 353, 514, 8, 1521, 413, 835, 1061, 1476, 897, 1333, 670, 1864, 252, 22, 1459, 1320, 1611, 1022, 1743, 47, 594, 1861, 1249, 1691, 1915, 1708, 334, 1900, 1342, 365, 1449, 12, 1073, 491, 68, 737, 10, 1348, 1694, 984, 1975, 1309, 1116, 867, 72, 1523, 1891, 603, 1528, 560, 363, 405, 293, 1495, 702, 485, 42, 2018, 1260, 309, 1711, 1770, 785, 70, 1154, 1852, 797, 389, 328, 333, 830, 256, 810, 956, 1712, 923, 1166, 1254, 570, 403, 1044, 206, 410, 1191, 703, 428, 993, 1378, 214, 683, 860, 1133, 1961, 1475, 1884, 1537, 1113, 1533, 537, 227, 1649, 1702, 323, 1471, 316, 1363, 513, 900, 794, 32, 474, 114, 550, 973, 1942, 1876, 37, 1441, 374, 1072, 415, 1127, 756, 1658, 1591, 1169, 1266, 1030, 503, 1688, 1819, 2063, 645, 50, 461, 1344, 1276, 961, 1618, 1207, 681, 1138, 1877, 274, 1885, 1895, 348, 784, 1685, 1502, 779, 1617, 757, 1350, 222, 749, 770, 2030, 587, 1686, 577, 736, 388, 242, 289, 208, 775, 1473, 767, 40, 1896, 1540, 1029, 2012, 287, 401, 515, 561, 1483, 1218, 1800, 418, 1183, 548, 1807, 421, 1587, 1123, 1020, 1454, 435, 321, 947, 605, 1692, 1137, 793, 89, 1960, 5, 2054, 194, 1534, 698, 138, 488, 200, 52, 1419, 1755, 174, 874, 848, 1987, 1607, 276, 2047, 1445, 1957, 1776, 2057, 77, 1763, 341, 1581, 731, 1646, 161, 623, 672, 768, 632, 237, 1774, 1823, 953, 43, 1824, 45, 788, 1319, 1718, 1140, 1541, 2046, 1042, 1268, 1903, 1916, 280, 999, 1374, 1326, 726, 1785, 1330, 523, 1510, 635, 1329, 1500, 127, 894, 1832, 1638, 2071, 1379, 1288, 1472, 1090, 524, 350, 1568, 1076, 2065, 2038, 688, 827, 355, 1601, 755, 674, 700, 1491, 1696, 1979, 751, 1631, 370, 958, 219, 576, 69, 869, 1516, 264, 1339, 268, 621, 1295, 1660, 1248, 380, 1198, 1079, 995, 1132, 1411, 559, 24, 1558, 927, 247, 822, 79, 814, 1481, 1560, 601, 1955, 600, 962, 223, 893, 859, 1574, 424, 1988, 530, 1967, 1939, 1931, 1834, 128, 1354, 1331, 1511, 1103, 368, 1681, 1163, 1405, 1771, 346, 967, 506, 1465, 1579, 66, 407, 1822, 1934, 1486, 644, 1334, 167, 217, 1485, 2006, 249, 87, 763, 266, 198, 1789, 887, 2050, 533, 162, 549, 1185, 352, 1790, 481, 1750, 213, 56, 1468, 1387, 558, 463, 177, 1744, 1275, 828, 238, 1456, 2041, 383, 1933, 1188, 1622, 1253, 29, 1652, 912, 1679, 1977, 1642, 1798, 121, 1433, 301, 100, 1164, 1645, 1614, 682, 1815, 873, 1170, 1381, 88, 106, 1952, 704, 1001, 2005, 1274, 885, 330, 653, 2037, 1811, 303, 1352, 1181, 347, 1182, 595, 1918, 1401, 1499, 1594, 124, 1346, 1306, 1962, 467, 1041, 1847, 1760, 158, 7, 847, 1761, 375, 553, 2022, 638, 372, 575, 459, 1142, 13, 1302, 862, 1397, 826, 2326, 2265, 2112, 2413, 2136, 2507, 2490, 2447, 2427, 2422, 2499, 2219, 2213, 2099, 2567, 2444, 2516, 2108, 2130, 2302, 2129, 2537, 2175, 2297, 2505, 2089, 2358, 2542, 2395, 2269, 2193, 2075, 2231, 2370, 2313, 2473, 2097, 2581, 2083, 2328, 2382, 2262, 2562, 2316, 2235, 2509, 2400, 2183, 2388, 2580, 2238, 2268, 2563, 2318, 2258, 2355, 2315, 2343, 2304, 2544, 2329, 2414, 2080, 2517, 2364, 2333, 2496, 2095, 2549, 2460, 2225, 2159, 2288, 2519, 2405, 2242, 2404, 2194, 2155, 2241, 2336, 2561, 2369, 2497, 2210, 2294, 2203, 2218, 2450, 2153, 2448, 2483, 2261, 2354, 2380, 2102, 2229, 2485, 2477, 2280, 2254, 2305, 2439, 2273, 2076, 2173, 2446, 2271, 2503, 2453, 2168, 2463, 2376, 2487, 2090, 2114, 2416, 2310, 2511, 2458, 2284, 2101, 2325, 2165, 2383, 2398, 2232, 2113, 2307, 2518, 2228, 2236, 2109, 2243, 2233, 2442, 2559, 2435, 2469, 2116, 2554, 2245, 2200, 2486, 2523, 2337, 2253, 2461, 2360, 2251, 2547, 2266, 2092, 2390, 2214, 2550, 2174, 2267, 2434, 2401, 2252, 2096, 2532, 2212, 2312, 2471, 2474, 2371, 2524, 2264, 2139, 2079, 2546, 2394, 2118, 2292, 2103, 2077, 2569, 2498, 2169, 2182, 2198, 2209, 2204, 2191, 2324, 2152, 2300, 2572, 2250, 2385, 2389, 2154, 2196, 2184, 2320, 2223, 2142, 2197, 2406, 2332, 2199, 2468, 2570, 2074, 2502, 2470, 2172, 2158, 2134, 2346, 2217, 2177, 2359, 2500, 2121, 2441, 2529, 2493, 2104, 2286, 2192, 2226, 2163, 2576, 2185, 2161, 2263, 2259, 2367, 2357, 2443, 2330, 2384, 2171, 2479, 2249, 2480, 2459, 2560, 2501, 2239, 2110, 2107, 2230, 2272, 2345, 2093, 2344, 2362, 2133, 2526, 2127, 2151, 2410, 2078, 2386, 2270, 2087, 2418, 2208, 2195, 2417, 2148, 2135, 2424, 2552, 2124, 2144, 2508, 2215, 2106, 2506, 2365, 2167, 2131, 2531, 2275, 2514, 2334, 2353, 2565, 2126, 2375, 2319, 2132, 2457, 2248, 2321, 2481, 2431, 2488, 2137, 2084, 2374, 2403, 2539, 2423, 2528, 2308, 2227, 2557, 2494, 2123, 2162, 2255, 2489, 2428, 2100, 2081, 2556, 2540, 2098, 2578, 2143, 2551, 2491, 2574, 2402, 2349, 2178, 2339, 2338, 2366, 2466, 2160, 2293, 2573, 2575, 2207, 2571, 2140, 2147, 2467, 2348, 2361, 2211, 2340, 2216, 2426, 2246, 2247, 2368, 2351, 2464, 2378, 2119, 2415, 2303, 2534, 2558, 2285, 2438, 2206, 2527, 2432, 2379, 2189, 2122, 2492, 2535, 2408, 2276, 2541, 2530, 2381, 2256, 2278, 2352, 2111, 2181, 2188, 2120, 2433, 2512, 2350, 2311, 2138, 2363, 2186, 2392, 2115, 2335, 2257, 2521, 2465, 2091, 2510, 2449, 2356, 2283, 2342, 2425, 2105, 2156, 2454, 2179, 2538, 2437, 2545, 2260, 2456, 2412, 2331, 2327, 2553, 2377, 2484, 2176, 2222, 2579, 2141, 2533, 2478, 2520, 2289, 2282, 2430, 2244, 2082, 2429, 2220, 2296, 2166, 2240, 2419, 2290, 2452, 2548, 2513, 2399, 2475, 2515, 2085, 2145, 2373, 2117, 2125, 2462, 2372, 2298, 2301, 2274, 2341, 2157, 2180, 2543, 2421, 2128, 2170, 2504, 2393, 2190, 2221, 2411, 2088, 2237, 2476, 2577, 2396, 2150, 2347, 2279, 2522, 2205, 2146, 2094, 2472, 2281, 2317, 2397, 2420, 2440, 2224, 2295, 2564, 2201, 2436, 2287, 2409, 2525, 2495, 2451, 2277, 2455, 2164, 2291, 2187, 2555, 2482, 2568, 2387, 2149, 2407, 2086, 2322, 2306, 2323, 2299, 2309, 2314, 2566, 2536, 2445, 2202, 2391, 2234]\n",
      "2582\n"
     ]
    },
    {
     "name": "stdout",
     "output_type": "stream",
     "text": [
      "[[0 0 0 ... 0 0 0]\n",
      " [0 0 0 ... 0 0 0]\n",
      " [0 0 1 ... 0 0 0]\n",
      " ...\n",
      " [0 0 0 ... 0 0 0]\n",
      " [0 0 0 ... 0 0 0]\n",
      " [0 0 0 ... 0 0 0]]\n",
      "[[0 0 0 ... 0 0 0]\n",
      " [0 0 0 ... 0 0 0]\n",
      " [0 0 0 ... 0 0 0]\n",
      " ...\n",
      " [0 0 0 ... 0 0 0]\n",
      " [0 0 0 ... 0 0 0]\n",
      " [0 0 0 ... 0 0 0]]\n",
      "(1867, 200) (1867, 129) (508, 200) (508, 129) (8881, 200) (8881, 129)\n"
     ]
    }
   ],
   "source": [
    "import os\n",
    "import random\n",
    "import numpy as np\n",
    "import pickle as pkl\n",
    "import networkx as nx\n",
    "import scipy.sparse as sp\n",
    "from utils import loadWord2Vec, clean_str\n",
    "from math import log\n",
    "from sklearn import svm\n",
    "from nltk.corpus import wordnet as wn\n",
    "from sklearn.feature_extraction.text import TfidfVectorizer\n",
    "import sys\n",
    "from scipy.spatial.distance import cosine\n",
    "\n",
    "\n",
    "# Read Word Vectors\n",
    "# word_vector_file = 'pyG_implement/data/glove.6B/glove.6B.300d.txt'\n",
    "# word_vector_file = 'pyG_implement/data/corpus/' + dataset + '_word_vectors.txt'\n",
    "#_, embd, word_vector_map = loadWord2Vec(word_vector_file)\n",
    "# word_embeddings_dim = len(embd[0])\n",
    "\n",
    "word_embeddings_dim = 200  #Word embedding dimension(100 - 300)\n",
    "word_vector_map = {}\n",
    "\n",
    "# shulffing\n",
    "doc_name_list = []\n",
    "doc_train_list = []\n",
    "doc_test_list = []\n",
    "\n",
    "f = open('pyG_implement/data/' + dataset + '.txt', 'r')\n",
    "lines = f.readlines()\n",
    "for line in lines:\n",
    "    doc_name_list.append(line.strip())\n",
    "    temp = line.split(\"\\t\")\n",
    "    if temp[1].find('test') != -1:\n",
    "        doc_test_list.append(line.strip())\n",
    "    elif temp[1].find('train') != -1:\n",
    "        doc_train_list.append(line.strip())\n",
    "f.close()\n",
    "# print(doc_train_list)\n",
    "# print(doc_test_list)\n",
    "\n",
    "doc_content_list = []\n",
    "f = open('pyG_implement/data/corpus/' + dataset + '.clean.txt', 'r')\n",
    "lines = f.readlines()\n",
    "for line in lines:\n",
    "    doc_content_list.append(line.strip())\n",
    "f.close()\n",
    "# print(doc_content_list)\n",
    "\n",
    "train_ids = []\n",
    "for train_name in doc_train_list:\n",
    "    train_id = doc_name_list.index(train_name)\n",
    "    train_ids.append(train_id)\n",
    "print(train_ids)\n",
    "random.shuffle(train_ids)\n",
    "\n",
    "# partial labeled data\n",
    "#train_ids = train_ids[:int(0.2 * len(train_ids))]\n",
    "\n",
    "train_ids_str = '\\n'.join(str(index) for index in train_ids)\n",
    "f = open('pyG_implement/data/' + dataset + '.train.index', 'w')\n",
    "f.write(train_ids_str)\n",
    "f.close()\n",
    "\n",
    "test_ids = []\n",
    "for test_name in doc_test_list:\n",
    "    test_id = doc_name_list.index(test_name)\n",
    "    test_ids.append(test_id)\n",
    "print(test_ids)\n",
    "random.shuffle(test_ids)\n",
    "\n",
    "test_ids_str = '\\n'.join(str(index) for index in test_ids)\n",
    "f = open('pyG_implement/data/' + dataset + '.test.index', 'w')\n",
    "f.write(test_ids_str)\n",
    "f.close()\n",
    "\n",
    "ids = train_ids + test_ids\n",
    "print(ids)\n",
    "print(len(ids))\n",
    "\n",
    "shuffle_doc_name_list = []\n",
    "shuffle_doc_words_list = []\n",
    "for id in ids:\n",
    "    shuffle_doc_name_list.append(doc_name_list[int(id)])\n",
    "    shuffle_doc_words_list.append(doc_content_list[int(id)])\n",
    "shuffle_doc_name_str = '\\n'.join(shuffle_doc_name_list)\n",
    "shuffle_doc_words_str = '\\n'.join(shuffle_doc_words_list)\n",
    "\n",
    "f = open('pyG_implement/data/' + dataset + '_shuffle.txt', 'w')\n",
    "f.write(shuffle_doc_name_str)\n",
    "f.close()\n",
    "\n",
    "f = open('pyG_implement/data/corpus/' + dataset + '_shuffle.txt', 'w')\n",
    "f.write(shuffle_doc_words_str)\n",
    "f.close()\n",
    "\n",
    "# build vocab\n",
    "word_freq = {}\n",
    "word_set = set()\n",
    "for doc_words in shuffle_doc_words_list:\n",
    "    words = doc_words.split()\n",
    "    for word in words:\n",
    "        word_set.add(word)\n",
    "        if word in word_freq:\n",
    "            word_freq[word] += 1\n",
    "        else:\n",
    "            word_freq[word] = 1\n",
    "\n",
    "vocab = list(word_set)\n",
    "vocab_size = len(vocab)\n",
    "\n",
    "word_doc_list = {}\n",
    "\n",
    "for i in range(len(shuffle_doc_words_list)):\n",
    "    doc_words = shuffle_doc_words_list[i]\n",
    "    words = doc_words.split()\n",
    "    appeared = set()\n",
    "    for word in words:\n",
    "        if word in appeared:\n",
    "            continue\n",
    "        if word in word_doc_list:\n",
    "            doc_list = word_doc_list[word]\n",
    "            doc_list.append(i)\n",
    "            word_doc_list[word] = doc_list\n",
    "        else:\n",
    "            word_doc_list[word] = [i]\n",
    "        appeared.add(word)\n",
    "\n",
    "word_doc_freq = {}\n",
    "for word, doc_list in word_doc_list.items():\n",
    "    word_doc_freq[word] = len(doc_list)\n",
    "\n",
    "word_id_map = {}\n",
    "for i in range(vocab_size):\n",
    "    word_id_map[vocab[i]] = i\n",
    "\n",
    "vocab_str = '\\n'.join(vocab)\n",
    "\n",
    "f = open('pyG_implement/data/corpus/' + dataset + '_vocab.txt', 'w')\n",
    "f.write(vocab_str)\n",
    "f.close()\n",
    "\n",
    "'''\n",
    "Word definitions begin\n",
    "'''\n",
    "'''\n",
    "definitions = []\n",
    "\n",
    "for word in vocab:\n",
    "    word = word.strip()\n",
    "    synsets = wn.synsets(clean_str(word))\n",
    "    word_defs = []\n",
    "    for synset in synsets:\n",
    "        syn_def = synset.definition()\n",
    "        word_defs.append(syn_def)\n",
    "    word_des = ' '.join(word_defs)\n",
    "    if word_des == '':\n",
    "        word_des = '<PAD>'\n",
    "    definitions.append(word_des)\n",
    "\n",
    "string = '\\n'.join(definitions)\n",
    "\n",
    "\n",
    "f = open('pyG_implement/data/corpus/' + dataset + '_vocab_def.txt', 'w')\n",
    "f.write(string)\n",
    "f.close()\n",
    "\n",
    "tfidf_vec = TfidfVectorizer(max_features=1000)\n",
    "tfidf_matrix = tfidf_vec.fit_transform(definitions)\n",
    "tfidf_matrix_array = tfidf_matrix.toarray()\n",
    "print(tfidf_matrix_array[0], len(tfidf_matrix_array[0]))\n",
    "\n",
    "word_vectors = []\n",
    "\n",
    "for i in range(len(vocab)):\n",
    "    word = vocab[i]\n",
    "    vector = tfidf_matrix_array[i]\n",
    "    str_vector = []\n",
    "    for j in range(len(vector)):\n",
    "        str_vector.append(str(vector[j]))\n",
    "    temp = ' '.join(str_vector)\n",
    "    word_vector = word + ' ' + temp\n",
    "    word_vectors.append(word_vector)\n",
    "\n",
    "string = '\\n'.join(word_vectors)\n",
    "\n",
    "f = open('pyG_implement/data/corpus/' + dataset + '_word_vectors.txt', 'w')\n",
    "f.write(string)\n",
    "f.close()\n",
    "\n",
    "word_vector_file = 'pyG_implement/data/corpus/' + dataset + '_word_vectors.txt'\n",
    "_, embd, word_vector_map = loadWord2Vec(word_vector_file)\n",
    "word_embeddings_dim = len(embd[0])\n",
    "'''\n",
    "\n",
    "'''\n",
    "Word definitions end\n",
    "'''\n",
    "\n",
    "# label list\n",
    "label_set = set()\n",
    "for doc_meta in shuffle_doc_name_list:\n",
    "    temp = doc_meta.split('\\t')\n",
    "    label_set.add(temp[2])\n",
    "label_list = list(label_set)\n",
    "\n",
    "label_list_str = '\\n'.join(label_list)\n",
    "f = open('pyG_implement/data/corpus/' + dataset + '_labels.txt', 'w')\n",
    "f.write(label_list_str)\n",
    "f.close()\n",
    "\n",
    "# x: feature vectors of training docs, no initial features\n",
    "# slect 90% training set\n",
    "train_size = len(train_ids)\n",
    "val_size = int(0.1 * train_size)\n",
    "real_train_size = train_size - val_size  # - int(0.5 * train_size)\n",
    "# different training rates\n",
    "\n",
    "real_train_doc_names = shuffle_doc_name_list[:real_train_size]\n",
    "real_train_doc_names_str = '\\n'.join(real_train_doc_names)\n",
    "\n",
    "f = open('pyG_implement/data/' + dataset + '.real_train.name', 'w')\n",
    "f.write(real_train_doc_names_str)\n",
    "f.close()\n",
    "\n",
    "row_x = []\n",
    "col_x = []\n",
    "data_x = []\n",
    "for i in range(real_train_size):\n",
    "    doc_vec = np.array([0.0 for k in range(word_embeddings_dim)])\n",
    "    doc_words = shuffle_doc_words_list[i]\n",
    "    words = doc_words.split()\n",
    "    doc_len = len(words)\n",
    "    for word in words:\n",
    "        if word in word_vector_map:\n",
    "            word_vector = word_vector_map[word]\n",
    "            # print(doc_vec)\n",
    "            # print(np.array(word_vector))\n",
    "            doc_vec = doc_vec + np.array(word_vector)\n",
    "\n",
    "    for j in range(word_embeddings_dim):\n",
    "        row_x.append(i)\n",
    "        col_x.append(j)\n",
    "        # np.random.uniform(-0.25, 0.25)\n",
    "        data_x.append(doc_vec[j] / doc_len)  # doc_vec[j]/ doc_len\n",
    "\n",
    "# x = sp.csr_matrix((real_train_size, word_embeddings_dim), dtype=np.float32)\n",
    "x = sp.csr_matrix((data_x, (row_x, col_x)), shape=(\n",
    "    real_train_size, word_embeddings_dim))\n",
    "\n",
    "y = []\n",
    "for i in range(real_train_size):\n",
    "    doc_meta = shuffle_doc_name_list[i]\n",
    "    temp = doc_meta.split('\\t')\n",
    "    label = temp[2]\n",
    "    one_hot = [0 for l in range(len(label_list))]\n",
    "    label_index = label_list.index(label)\n",
    "    one_hot[label_index] = 1\n",
    "    y.append(one_hot)\n",
    "y = np.array(y)\n",
    "print(y)\n",
    "\n",
    "# tx: feature vectors of test docs, no initial features\n",
    "test_size = len(test_ids)\n",
    "\n",
    "row_tx = []\n",
    "col_tx = []\n",
    "data_tx = []\n",
    "for i in range(test_size):\n",
    "    doc_vec = np.array([0.0 for k in range(word_embeddings_dim)])\n",
    "    doc_words = shuffle_doc_words_list[i + train_size]\n",
    "    words = doc_words.split()\n",
    "    doc_len = len(words)\n",
    "    for word in words:\n",
    "        if word in word_vector_map:\n",
    "            word_vector = word_vector_map[word]\n",
    "            doc_vec = doc_vec + np.array(word_vector)\n",
    "\n",
    "    for j in range(word_embeddings_dim):\n",
    "        row_tx.append(i)\n",
    "        col_tx.append(j)\n",
    "        # np.random.uniform(-0.25, 0.25)\n",
    "        data_tx.append(doc_vec[j] / doc_len)  # doc_vec[j] / doc_len\n",
    "\n",
    "# tx = sp.csr_matrix((test_size, word_embeddings_dim), dtype=np.float32)\n",
    "tx = sp.csr_matrix((data_tx, (row_tx, col_tx)),\n",
    "                   shape=(test_size, word_embeddings_dim))\n",
    "\n",
    "ty = []\n",
    "for i in range(test_size):\n",
    "    doc_meta = shuffle_doc_name_list[i + train_size]\n",
    "    temp = doc_meta.split('\\t')\n",
    "    label = temp[2]\n",
    "    one_hot = [0 for l in range(len(label_list))]\n",
    "    label_index = label_list.index(label)\n",
    "    one_hot[label_index] = 1\n",
    "    ty.append(one_hot)\n",
    "ty = np.array(ty)\n",
    "print(ty)\n",
    "\n",
    "# allx: the the feature vectors of both labeled and unlabeled training instances\n",
    "# (a superset of x)\n",
    "# unlabeled training instances -> words\n",
    "\n",
    "word_vectors = np.random.uniform(-0.01, 0.01,\n",
    "                                 (vocab_size, word_embeddings_dim))\n",
    "\n",
    "for i in range(len(vocab)):\n",
    "    word = vocab[i]\n",
    "    if word in word_vector_map:\n",
    "        vector = word_vector_map[word]\n",
    "        word_vectors[i] = vector\n",
    "\n",
    "row_allx = []\n",
    "col_allx = []\n",
    "data_allx = []\n",
    "\n",
    "for i in range(train_size):\n",
    "    doc_vec = np.array([0.0 for k in range(word_embeddings_dim)])\n",
    "    doc_words = shuffle_doc_words_list[i]\n",
    "    words = doc_words.split()\n",
    "    doc_len = len(words)\n",
    "    for word in words:\n",
    "        if word in word_vector_map:\n",
    "            word_vector = word_vector_map[word]\n",
    "            doc_vec = doc_vec + np.array(word_vector)\n",
    "\n",
    "    for j in range(word_embeddings_dim):\n",
    "        row_allx.append(int(i))\n",
    "        col_allx.append(j)\n",
    "        # np.random.uniform(-0.25, 0.25)\n",
    "        data_allx.append(doc_vec[j] / doc_len)  # doc_vec[j]/doc_len\n",
    "for i in range(vocab_size):\n",
    "    for j in range(word_embeddings_dim):\n",
    "        row_allx.append(int(i + train_size))\n",
    "        col_allx.append(j)\n",
    "        data_allx.append(word_vectors.item((i, j)))\n",
    "\n",
    "\n",
    "row_allx = np.array(row_allx)\n",
    "col_allx = np.array(col_allx)\n",
    "data_allx = np.array(data_allx)\n",
    "\n",
    "allx = sp.csr_matrix(\n",
    "    (data_allx, (row_allx, col_allx)), shape=(train_size + vocab_size, word_embeddings_dim))\n",
    "\n",
    "ally = []\n",
    "for i in range(train_size):\n",
    "    doc_meta = shuffle_doc_name_list[i]\n",
    "    temp = doc_meta.split('\\t')\n",
    "    label = temp[2]\n",
    "    one_hot = [0 for l in range(len(label_list))]\n",
    "    label_index = label_list.index(label)\n",
    "    one_hot[label_index] = 1\n",
    "    ally.append(one_hot)\n",
    "\n",
    "for i in range(vocab_size):\n",
    "    one_hot = [0 for l in range(len(label_list))]\n",
    "    ally.append(one_hot)\n",
    "\n",
    "ally = np.array(ally)\n",
    "\n",
    "print(x.shape, y.shape, tx.shape, ty.shape, allx.shape, ally.shape)\n",
    "\n",
    "'''\n",
    "Doc word heterogeneous graph\n",
    "'''\n",
    "\n",
    "# word co-occurence with context windows\n",
    "window_size = 20\n",
    "windows = []\n",
    "\n",
    "for doc_words in shuffle_doc_words_list:\n",
    "    words = doc_words.split()\n",
    "    length = len(words)\n",
    "    if length <= window_size:\n",
    "        windows.append(words)\n",
    "    else:\n",
    "        # print(length, length - window_size + 1)\n",
    "        for j in range(length - window_size + 1):\n",
    "            window = words[j: j + window_size]\n",
    "            windows.append(window)\n",
    "            # print(window)\n",
    "\n",
    "\n",
    "word_window_freq = {}\n",
    "for window in windows:\n",
    "    appeared = set()\n",
    "    for i in range(len(window)):\n",
    "        if window[i] in appeared:\n",
    "            continue\n",
    "        if window[i] in word_window_freq:\n",
    "            word_window_freq[window[i]] += 1\n",
    "        else:\n",
    "            word_window_freq[window[i]] = 1\n",
    "        appeared.add(window[i])\n",
    "\n",
    "word_pair_count = {}\n",
    "for window in windows:\n",
    "    for i in range(1, len(window)):\n",
    "        for j in range(0, i):\n",
    "            word_i = window[i]\n",
    "            word_i_id = word_id_map[word_i]\n",
    "            word_j = window[j]\n",
    "            word_j_id = word_id_map[word_j]\n",
    "            if word_i_id == word_j_id:\n",
    "                continue\n",
    "            word_pair_str = str(word_i_id) + ',' + str(word_j_id)\n",
    "            if word_pair_str in word_pair_count:\n",
    "                word_pair_count[word_pair_str] += 1\n",
    "            else:\n",
    "                word_pair_count[word_pair_str] = 1\n",
    "            # two orders\n",
    "            word_pair_str = str(word_j_id) + ',' + str(word_i_id)\n",
    "            if word_pair_str in word_pair_count:\n",
    "                word_pair_count[word_pair_str] += 1\n",
    "            else:\n",
    "                word_pair_count[word_pair_str] = 1\n",
    "\n",
    "row = []\n",
    "col = []\n",
    "weight = []\n",
    "\n",
    "# pmi as weights\n",
    "\n",
    "num_window = len(windows)\n",
    "\n",
    "for key in word_pair_count:\n",
    "    temp = key.split(',')\n",
    "    i = int(temp[0])\n",
    "    j = int(temp[1])\n",
    "    count = word_pair_count[key]\n",
    "    word_freq_i = word_window_freq[vocab[i]]\n",
    "    word_freq_j = word_window_freq[vocab[j]]\n",
    "    pmi = log((1.0 * count / num_window) /\n",
    "              (1.0 * word_freq_i * word_freq_j/(num_window * num_window)))\n",
    "    if pmi <= 0:\n",
    "        continue\n",
    "    row.append(train_size + i)\n",
    "    col.append(train_size + j)\n",
    "    weight.append(pmi)\n",
    "\n",
    "# word vector cosine similarity as weights\n",
    "\n",
    "'''\n",
    "for i in range(vocab_size):\n",
    "    for j in range(vocab_size):\n",
    "        if vocab[i] in word_vector_map and vocab[j] in word_vector_map:\n",
    "            vector_i = np.array(word_vector_map[vocab[i]])\n",
    "            vector_j = np.array(word_vector_map[vocab[j]])\n",
    "            similarity = 1.0 - cosine(vector_i, vector_j)\n",
    "            if similarity > 0.9:\n",
    "                print(vocab[i], vocab[j], similarity)\n",
    "                row.append(train_size + i)\n",
    "                col.append(train_size + j)\n",
    "                weight.append(similarity)\n",
    "'''\n",
    "# doc word frequency\n",
    "doc_word_freq = {}\n",
    "\n",
    "for doc_id in range(len(shuffle_doc_words_list)):\n",
    "    doc_words = shuffle_doc_words_list[doc_id]\n",
    "    words = doc_words.split()\n",
    "    for word in words:\n",
    "        word_id = word_id_map[word]\n",
    "        doc_word_str = str(doc_id) + ',' + str(word_id)\n",
    "        if doc_word_str in doc_word_freq:\n",
    "            doc_word_freq[doc_word_str] += 1\n",
    "        else:\n",
    "            doc_word_freq[doc_word_str] = 1\n",
    "\n",
    "for i in range(len(shuffle_doc_words_list)):\n",
    "    doc_words = shuffle_doc_words_list[i]\n",
    "    words = doc_words.split()\n",
    "    doc_word_set = set()\n",
    "    for word in words:\n",
    "        if word in doc_word_set:\n",
    "            continue\n",
    "        j = word_id_map[word]\n",
    "        key = str(i) + ',' + str(j)\n",
    "        freq = doc_word_freq[key]\n",
    "        if i < train_size:\n",
    "            row.append(i)\n",
    "        else:\n",
    "            row.append(i + vocab_size)\n",
    "        col.append(train_size + j)\n",
    "        idf = log(1.0 * len(shuffle_doc_words_list) /\n",
    "                  word_doc_freq[vocab[j]])\n",
    "        weight.append(freq * idf)\n",
    "        doc_word_set.add(word)\n",
    "\n",
    "node_size = train_size + vocab_size + test_size\n",
    "adj = sp.csr_matrix(\n",
    "    (weight, (row, col)), shape=(node_size, node_size))\n",
    "\n",
    "# dump objects\n",
    "f = open(\"pyG_implement/data/ind.{}.x\".format(dataset), 'wb')\n",
    "pkl.dump(x, f)\n",
    "f.close()\n",
    "\n",
    "f = open(\"pyG_implement/data/ind.{}.y\".format(dataset), 'wb')\n",
    "pkl.dump(y, f)\n",
    "f.close()\n",
    "\n",
    "f = open(\"pyG_implement/data/ind.{}.tx\".format(dataset), 'wb')\n",
    "pkl.dump(tx, f)\n",
    "f.close()\n",
    "\n",
    "f = open(\"pyG_implement/data/ind.{}.ty\".format(dataset), 'wb')\n",
    "pkl.dump(ty, f)\n",
    "f.close()\n",
    "\n",
    "f = open(\"pyG_implement/data/ind.{}.allx\".format(dataset), 'wb')\n",
    "pkl.dump(allx, f)\n",
    "f.close()\n",
    "\n",
    "f = open(\"pyG_implement/data/ind.{}.ally\".format(dataset), 'wb')\n",
    "pkl.dump(ally, f)\n",
    "f.close()\n",
    "\n",
    "f = open(\"pyG_implement/data/ind.{}.adj\".format(dataset), 'wb')\n",
    "pkl.dump(adj, f)\n",
    "f.close()\n"
   ]
  },
  {
   "cell_type": "code",
   "execution_count": null,
   "metadata": {},
   "outputs": [],
   "source": []
  }
 ],
 "metadata": {
  "kernelspec": {
   "display_name": "Python 3",
   "language": "python",
   "name": "python3"
  },
  "language_info": {
   "codemirror_mode": {
    "name": "ipython",
    "version": 3
   },
   "file_extension": ".py",
   "mimetype": "text/x-python",
   "name": "python",
   "nbconvert_exporter": "python",
   "pygments_lexer": "ipython3",
   "version": "3.7.9"
  }
 },
 "nbformat": 4,
 "nbformat_minor": 4
}
