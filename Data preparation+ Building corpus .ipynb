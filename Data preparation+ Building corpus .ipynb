{
 "cells": [
  {
   "cell_type": "markdown",
   "metadata": {},
   "source": [
    "This notebook - \n",
    "1. preprocesses the data from train and test csv. (raw data coming from annotation)\n",
    "2. Prepare the data for for smooth text gcn implementation. \n",
    "3. Builds Courpus for further use."
   ]
  },
  {
   "cell_type": "code",
   "execution_count": 1,
   "metadata": {},
   "outputs": [],
   "source": [
    "import pandas as pd\n",
    "import numpy as np\n",
    "import re"
   ]
  },
  {
   "cell_type": "code",
   "execution_count": 2,
   "metadata": {},
   "outputs": [],
   "source": [
    "common_path = \"C:/Users/adity/OneDrive/Desktop/nlu_course/Goggles_gcn/\"\n",
    "\n",
    "train_csv = common_path + 'train.csv'\n",
    "test_csv = common_path + 'test.csv'"
   ]
  },
  {
   "cell_type": "code",
   "execution_count": 3,
   "metadata": {},
   "outputs": [],
   "source": [
    "def zone_text_converter(val):\n",
    "    val = re.sub(r'([^\\s\\w.,]|_)+', '', val).lower()\n",
    "    val = re.sub(r',+', '.', val)\n",
    "    val = re.sub(r'\\d+', '', val)\n",
    "    val = re.sub(r' +',' ',val)\n",
    "    return val"
   ]
  },
  {
   "cell_type": "code",
   "execution_count": 4,
   "metadata": {},
   "outputs": [],
   "source": [
    "def field_converter(val):\n",
    "    return val.lower().replace(' ', '')"
   ]
  },
  {
   "cell_type": "code",
   "execution_count": 5,
   "metadata": {},
   "outputs": [],
   "source": [
    "from nltk.corpus import stopwords"
   ]
  },
  {
   "cell_type": "code",
   "execution_count": 6,
   "metadata": {},
   "outputs": [],
   "source": [
    "# def preprocess(s, word_remove_list=None):\n",
    "#     stop_words = set(stopwords.words('english'))\n",
    "# #     print(stop_words)\n",
    "#     x = s.split()\n",
    "#     filtered_words = []\n",
    "#     for w in x:\n",
    "#         if w not in stop_words and len(w)>1:\n",
    "#             filtered_words.append(w)\n",
    "#     return((' ').join(filtered_words))"
   ]
  },
  {
   "cell_type": "code",
   "execution_count": 7,
   "metadata": {},
   "outputs": [],
   "source": [
    "train_df = pd.read_csv(train_csv, index_col=0, converters={'zone_text': zone_text_converter, 'subject': field_converter,\n",
    "                                           'grade': field_converter, 'syllabus': field_converter})\n",
    "test_df = pd.read_csv(test_csv, index_col=0, converters={'zone_text': zone_text_converter, 'subject': field_converter,\n",
    "                                           'grade': field_converter, 'syllabus': field_converter})"
   ]
  },
  {
   "cell_type": "code",
   "execution_count": 8,
   "metadata": {},
   "outputs": [],
   "source": [
    "train_df = train_df[train_df.category_type=='lesson']\n",
    "test_df = test_df[test_df.category_type=='lesson']"
   ]
  },
  {
   "cell_type": "code",
   "execution_count": 9,
   "metadata": {},
   "outputs": [],
   "source": [
    "L_train=[]\n",
    "text_train_list = list(train_df['zone_text'])\n",
    "label_train_list = list(train_df['annotation_id'])"
   ]
  },
  {
   "cell_type": "code",
   "execution_count": 10,
   "metadata": {},
   "outputs": [
    {
     "data": {
      "text/plain": [
       "['before we solve problems involving direction of current . direction of magnetic field and the direction of force by using fleming s left hand rule . we should keep the following points in mind i by convention . the direction of flow of positive charges is taken to be the direction of flow of current . so . the direction in which the positively charged particles such as protons or alpha particles . etc . . move will be the direction of electric current . ii the direction of electric current is . however . taken to be opposite to the direction of flow of negative charges such as electrons . so . if we are given the direction of flow of electrons . then the direction of electric current will be taken as opposite to the direction of flow of electrons . iii the direction of deflection of a current carrying conductor or a stream of positively charged particles or a stream of negatively charged particles like electrons tells us the direction of force acting on it . let us solve some problems now .',\n",
       " 'sources of geothermal energy . the geothermal energy is harnessed as follows ',\n",
       " 'wind energy definition flow of air is called wind . it possesses enormous energy . as the energy is due to motion of air during its flow . the energy is kinetic . source of wind energy solar energy heats the entire earth but the heating is not uniform . the heating is more intense near the equator than in the polar region . this makes air in the equator region more hot and light . it rises up and its space is filled with the cooler air from polar region . in this way air flows from colder region at high pressure to hotter region at low pressure . the flow of air from one place to other constitutes wind . the smooth flow of air is disturbed continuously by rotation of the earth as well as by the local conditions . due to these interacting factor the wind speed may vary from km h to about km h gentle breeze to very high speed of about km h of a storm tornado .']"
      ]
     },
     "execution_count": 10,
     "metadata": {},
     "output_type": "execute_result"
    }
   ],
   "source": [
    "text_train_list[:3]"
   ]
  },
  {
   "cell_type": "code",
   "execution_count": 11,
   "metadata": {},
   "outputs": [
    {
     "data": {
      "text/plain": [
       "[730, 764, 753]"
      ]
     },
     "execution_count": 11,
     "metadata": {},
     "output_type": "execute_result"
    }
   ],
   "source": [
    "label_train_list[:3]"
   ]
  },
  {
   "cell_type": "code",
   "execution_count": 12,
   "metadata": {},
   "outputs": [
    {
     "data": {
      "text/plain": [
       "2074"
      ]
     },
     "execution_count": 12,
     "metadata": {},
     "output_type": "execute_result"
    }
   ],
   "source": [
    "len(text_train_list)"
   ]
  },
  {
   "cell_type": "code",
   "execution_count": 13,
   "metadata": {},
   "outputs": [],
   "source": [
    "for i in range(len(text_train_list)):\n",
    "    s = 'train'\n",
    "    L_train.append(s)"
   ]
  },
  {
   "cell_type": "code",
   "execution_count": 14,
   "metadata": {},
   "outputs": [
    {
     "data": {
      "text/plain": [
       "['train',\n",
       " 'train',\n",
       " 'train',\n",
       " 'train',\n",
       " 'train',\n",
       " 'train',\n",
       " 'train',\n",
       " 'train',\n",
       " 'train',\n",
       " 'train']"
      ]
     },
     "execution_count": 14,
     "metadata": {},
     "output_type": "execute_result"
    }
   ],
   "source": [
    "L_train[:10]"
   ]
  },
  {
   "cell_type": "code",
   "execution_count": 15,
   "metadata": {},
   "outputs": [],
   "source": [
    "L_test=[]\n",
    "text_test_list = list(test_df['zone_text'])\n",
    "label_test_list = list(test_df['annotation_id'])"
   ]
  },
  {
   "cell_type": "code",
   "execution_count": 16,
   "metadata": {},
   "outputs": [
    {
     "data": {
      "text/plain": [
       "['let us perform an experiment to verify this fact . take a straight copper rod . suspend it horizontally by means of two connecting wires between the poles of a strong horseshoe magnet as shown in figure . a and b . if a current is now passed in the rod as shown in figure . a . you will observe that the rod gets displaced . this displacement is caused by the force acting on the current carrying rod . in accordance with fleming s left hand rule . the magnet exerts a force on the rod directed upwards . with the result that the rod will get deflected upwards . now . reverse the direction of current or interchange the poles of the magnet as shown in figure . b . you will observe that the rod is now displaced downwards i . e . . deflection of the rod has reversed . this indicates that the direction of the force acting on the rod has reversed .',\n",
       " 'equivalent resistance in parallel connection figure . a shows three resistors of resistances r . r and r connected in parallel across the points a and b . the cell connected across these two points maintains a potential difference v across each resistor . the current through the cell is i . it gets divided at a into three parts iſ . in and iz . which flow through r . r and r respectively . reg fig . . let us replace the combination of resistors by an equivalent resistor reg such that the current i in the circuit does not change figure . a . the equivalent resistance is given by ohm s law as req v i . thus . rea the currents iż . iż and iz through the resistors r . r and r respectively are given by ohm s law as since the resistors are in parallel . i iz iz iz .',\n",
       " 'table . symbols of electrical elements used in electrical circuits . m lamp or load connecting wire wires crossing wires connected together e a cell battery ac source fixed resistance rheostat g hey switch off voltmeter ammeter galvanometer ground earth o key open switch closed key closed variable resistance . lamp or load it is an arrangement across which the output is obtained .']"
      ]
     },
     "execution_count": 16,
     "metadata": {},
     "output_type": "execute_result"
    }
   ],
   "source": [
    "text_test_list[:3]"
   ]
  },
  {
   "cell_type": "code",
   "execution_count": 17,
   "metadata": {},
   "outputs": [
    {
     "data": {
      "text/plain": [
       "508"
      ]
     },
     "execution_count": 17,
     "metadata": {},
     "output_type": "execute_result"
    }
   ],
   "source": [
    "len(text_test_list)"
   ]
  },
  {
   "cell_type": "code",
   "execution_count": 18,
   "metadata": {},
   "outputs": [],
   "source": [
    "for i in range(len(text_test_list)):\n",
    "    s = 'test'\n",
    "    L_test.append(s)"
   ]
  },
  {
   "cell_type": "code",
   "execution_count": 19,
   "metadata": {},
   "outputs": [],
   "source": [
    "sentences = text_train_list\n",
    "sentences.extend(text_test_list)"
   ]
  },
  {
   "cell_type": "code",
   "execution_count": 20,
   "metadata": {},
   "outputs": [
    {
     "name": "stdout",
     "output_type": "stream",
     "text": [
      "2582\n"
     ]
    }
   ],
   "source": [
    "print(len(sentences))"
   ]
  },
  {
   "cell_type": "code",
   "execution_count": 21,
   "metadata": {},
   "outputs": [
    {
     "name": "stdout",
     "output_type": "stream",
     "text": [
      "let us perform an experiment to verify this fact . take a straight copper rod . suspend it horizontally by means of two connecting wires between the poles of a strong horseshoe magnet as shown in figure . a and b . if a current is now passed in the rod as shown in figure . a . you will observe that the rod gets displaced . this displacement is caused by the force acting on the current carrying rod . in accordance with fleming s left hand rule . the magnet exerts a force on the rod directed upwards . with the result that the rod will get deflected upwards . now . reverse the direction of current or interchange the poles of the magnet as shown in figure . b . you will observe that the rod is now displaced downwards i . e . . deflection of the rod has reversed . this indicates that the direction of the force acting on the rod has reversed .\n"
     ]
    }
   ],
   "source": [
    "print(sentences[2074])"
   ]
  },
  {
   "cell_type": "code",
   "execution_count": 22,
   "metadata": {},
   "outputs": [
    {
     "name": "stdout",
     "output_type": "stream",
     "text": [
      "2582\n"
     ]
    }
   ],
   "source": [
    "labels = label_train_list\n",
    "labels.extend(label_test_list)\n",
    "print(len(labels))"
   ]
  },
  {
   "cell_type": "code",
   "execution_count": 23,
   "metadata": {},
   "outputs": [
    {
     "data": {
      "text/plain": [
       "726"
      ]
     },
     "execution_count": 23,
     "metadata": {},
     "output_type": "execute_result"
    }
   ],
   "source": [
    "labels[2074]"
   ]
  },
  {
   "cell_type": "code",
   "execution_count": 24,
   "metadata": {
    "scrolled": true
   },
   "outputs": [
    {
     "name": "stdout",
     "output_type": "stream",
     "text": [
      "['730', '764', '753']\n",
      "<class 'str'>\n"
     ]
    }
   ],
   "source": [
    "#Converting labels into string\n",
    "\n",
    "labels = [str(i) for i in labels]\n",
    "print(labels[:3])\n",
    "print(type(labels[2074]))"
   ]
  },
  {
   "cell_type": "code",
   "execution_count": 25,
   "metadata": {},
   "outputs": [
    {
     "data": {
      "text/plain": [
       "2582"
      ]
     },
     "execution_count": 25,
     "metadata": {},
     "output_type": "execute_result"
    }
   ],
   "source": [
    "train_or_test_list = L_train\n",
    "train_or_test_list.extend(L_test)\n",
    "len(train_or_test_list)"
   ]
  },
  {
   "cell_type": "code",
   "execution_count": 26,
   "metadata": {},
   "outputs": [],
   "source": [
    "#Creating the datset - 2 txt files (Goggles.txt in data folder and Goggles.txt in data/corpus folder)\n",
    "\n",
    "dataset_name = 'Goggles'\n",
    "\n",
    "meta_data_list = []\n",
    "\n",
    "for i in range(len(sentences)):\n",
    "    meta = str(i) + '\\t' + train_or_test_list[i] + '\\t' + labels[i]\n",
    "    meta_data_list.append(meta)\n",
    "\n",
    "meta_data_str = '\\n'.join(meta_data_list)\n",
    "\n",
    "f = open('pyG_implement/data/' + dataset_name + '.txt', 'w') \n",
    "f.write(meta_data_str)\n",
    "f.close()\n",
    "\n",
    "\n",
    "corpus_str = '\\n'.join(sentences)\n",
    "\n",
    "f = open('pyG_implement/data/corpus/' + dataset_name + '.txt', 'w', encoding=\"utf-8\")\n",
    "f.write(corpus_str)\n",
    "f.close()"
   ]
  },
  {
   "cell_type": "markdown",
   "metadata": {},
   "source": [
    "### Removing stopwords and cleaning data\n",
    "\n",
    "Output - Goggles.clean.txt file"
   ]
  },
  {
   "cell_type": "code",
   "execution_count": 27,
   "metadata": {},
   "outputs": [
    {
     "name": "stderr",
     "output_type": "stream",
     "text": [
      "[nltk_data] Downloading package stopwords to\n",
      "[nltk_data]     C:\\Users\\adity\\AppData\\Roaming\\nltk_data...\n",
      "[nltk_data]   Package stopwords is already up-to-date!\n"
     ]
    },
    {
     "name": "stdout",
     "output_type": "stream",
     "text": [
      "{\"it's\", 'itself', 'wasn', 'here', 'from', 's', 'his', 'am', 'the', 'each', 'couldn', 'hasn', 'ma', 'very', 'has', 't', 'i', 'few', 'did', \"couldn't\", \"weren't\", 'ain', 'while', 'doing', 'most', 'down', 'that', 'out', 'mustn', 'won', 'himself', 'these', \"you've\", 'not', 'over', 'ours', \"shouldn't\", \"aren't\", \"should've\", 'myself', 'be', 'up', 'own', 'only', 'same', 'we', 'can', 'how', 'through', 'about', 'this', 'she', \"hadn't\", 'didn', 'isn', 'themselves', 'they', 'off', 'more', 'what', 'such', 'who', 'will', 'yours', 'was', 'should', \"doesn't\", \"isn't\", 'aren', 'again', 'wouldn', 'after', \"needn't\", 'with', 'a', 'have', \"you're\", 'further', \"wouldn't\", 'on', 'by', 'there', \"wasn't\", 'does', 'both', 'at', 'd', 'all', \"don't\", \"hasn't\", 'haven', 'below', 'too', 'if', 'weren', \"you'd\", 'our', 'under', \"didn't\", 'its', 'were', 'it', 'had', 'as', 'during', 'needn', 'than', 'shan', 'an', 'but', 'of', \"mustn't\", 'because', \"she's\", 'them', 'other', 'shouldn', 'to', 'do', 'until', 'no', 'once', 'hers', 'into', 'him', 'before', 'so', 'o', \"that'll\", 'yourself', 'when', 'll', 'been', 'your', 'above', 'are', 'her', 'between', 'where', 'me', 'just', 'don', \"you'll\", 'herself', 'any', \"won't\", \"shan't\", 'in', 're', 'having', 'then', 'm', 'why', 'y', 'you', 'now', 'hadn', 'mightn', 'and', \"haven't\", 'their', 've', 'he', 'doesn', 'or', 'which', 'yourselves', 'against', 'some', 'theirs', 'those', 'being', 'my', \"mightn't\", 'ourselves', 'is', 'nor', 'whom', 'for'}\n",
      "min_len : 2\n",
      "max_len : 555\n",
      "average_len : 42.91828040278853\n"
     ]
    }
   ],
   "source": [
    "from nltk.corpus import stopwords\n",
    "import nltk\n",
    "from nltk.wsd import lesk\n",
    "from nltk.corpus import wordnet as wn\n",
    "from utils import clean_str, loadWord2Vec\n",
    "import sys\n",
    "\n",
    "\n",
    "dataset = 'Goggles'\n",
    "\n",
    "nltk.download('stopwords')\n",
    "stop_words = set(stopwords.words('english'))\n",
    "print(stop_words)\n",
    "\n",
    "# Read Word Vectors\n",
    "# word_vector_file = 'pyG_implement/data/glove.6B/glove.6B.200d.txt'\n",
    "# vocab, embd, word_vector_map = loadWord2Vec(word_vector_file)\n",
    "# word_embeddings_dim = len(embd[0])\n",
    "# dataset = ''\n",
    "\n",
    "doc_content_list = []\n",
    "f = open('pyG_implement/data/corpus/' + dataset + '.txt', 'rb')\n",
    "# f = open('pyG_implement/data/wiki_long_abstracts_en_text.txt', 'r')\n",
    "for line in f.readlines():\n",
    "    doc_content_list.append(line.strip().decode('latin1'))\n",
    "f.close()\n",
    "\n",
    "\n",
    "word_freq = {}  # to remove rare words\n",
    "\n",
    "for doc_content in doc_content_list:\n",
    "    temp = clean_str(doc_content)\n",
    "    words = temp.split()\n",
    "    for word in words:\n",
    "        if word in word_freq:\n",
    "            word_freq[word] += 1\n",
    "        else:\n",
    "            word_freq[word] = 1\n",
    "\n",
    "clean_docs = []\n",
    "for doc_content in doc_content_list:\n",
    "    temp = clean_str(doc_content)\n",
    "    words = temp.split()\n",
    "    doc_words = []\n",
    "    for word in words:\n",
    "        # word not in stop_words and word_freq[word] >= 5\n",
    "        if dataset == 'mr':\n",
    "            doc_words.append(word)\n",
    "        elif word not in stop_words and word_freq[word] >= 1:\n",
    "            doc_words.append(word)\n",
    "\n",
    "    doc_str = ' '.join(doc_words).strip()\n",
    "    #if doc_str == '':\n",
    "        #doc_str = temp\n",
    "    clean_docs.append(doc_str)\n",
    "\n",
    "clean_corpus_str = '\\n'.join(clean_docs)\n",
    "\n",
    "f = open('pyG_implement/data/corpus/' + dataset + '.clean.txt', 'w')\n",
    "#f = open('pyG_implement/data/wiki_long_abstracts_en_text.clean.txt', 'w')\n",
    "f.write(clean_corpus_str)\n",
    "f.close()\n",
    "\n",
    "#dataset = '20ng'\n",
    "min_len = 10000\n",
    "aver_len = 0\n",
    "max_len = 0 \n",
    "\n",
    "f = open('pyG_implement/data/corpus/' + dataset + '.clean.txt', 'r')\n",
    "#f = open('pyG_implement/data/wiki_long_abstracts_en_text.txt', 'r')\n",
    "lines = f.readlines()\n",
    "for line in lines:\n",
    "    line = line.strip()\n",
    "    temp = line.split()\n",
    "    aver_len = aver_len + len(temp)\n",
    "    if len(temp) < min_len:\n",
    "        min_len = len(temp)\n",
    "    if len(temp) > max_len:\n",
    "        max_len = len(temp)\n",
    "f.close()\n",
    "aver_len = 1.0 * aver_len / len(lines)\n",
    "print('min_len : ' + str(min_len))\n",
    "print('max_len : ' + str(max_len))\n",
    "print('average_len : ' + str(aver_len))\n"
   ]
  },
  {
   "cell_type": "code",
   "execution_count": null,
   "metadata": {},
   "outputs": [],
   "source": []
  },
  {
   "cell_type": "markdown",
   "metadata": {},
   "source": [
    "### Building graph (word - word relation, word-doc relation) \n",
    "Same as build_graph.py\n",
    "\n",
    "Creates multiple txt files to be used in traing and testing"
   ]
  },
  {
   "cell_type": "code",
   "execution_count": null,
   "metadata": {},
   "outputs": [],
   "source": []
  },
  {
   "cell_type": "code",
   "execution_count": 28,
   "metadata": {},
   "outputs": [
    {
     "name": "stdout",
     "output_type": "stream",
     "text": [
      "[0, 1, 2, 3, 4, 5, 6, 7, 8, 9, 10, 11, 12, 13, 14, 15, 16, 17, 18, 19, 20, 21, 22, 23, 24, 25, 26, 27, 28, 29, 30, 31, 32, 33, 34, 35, 36, 37, 38, 39, 40, 41, 42, 43, 44, 45, 46, 47, 48, 49, 50, 51, 52, 53, 54, 55, 56, 57, 58, 59, 60, 61, 62, 63, 64, 65, 66, 67, 68, 69, 70, 71, 72, 73, 74, 75, 76, 77, 78, 79, 80, 81, 82, 83, 84, 85, 86, 87, 88, 89, 90, 91, 92, 93, 94, 95, 96, 97, 98, 99, 100, 101, 102, 103, 104, 105, 106, 107, 108, 109, 110, 111, 112, 113, 114, 115, 116, 117, 118, 119, 120, 121, 122, 123, 124, 125, 126, 127, 128, 129, 130, 131, 132, 133, 134, 135, 136, 137, 138, 139, 140, 141, 142, 143, 144, 145, 146, 147, 148, 149, 150, 151, 152, 153, 154, 155, 156, 157, 158, 159, 160, 161, 162, 163, 164, 165, 166, 167, 168, 169, 170, 171, 172, 173, 174, 175, 176, 177, 178, 179, 180, 181, 182, 183, 184, 185, 186, 187, 188, 189, 190, 191, 192, 193, 194, 195, 196, 197, 198, 199, 200, 201, 202, 203, 204, 205, 206, 207, 208, 209, 210, 211, 212, 213, 214, 215, 216, 217, 218, 219, 220, 221, 222, 223, 224, 225, 226, 227, 228, 229, 230, 231, 232, 233, 234, 235, 236, 237, 238, 239, 240, 241, 242, 243, 244, 245, 246, 247, 248, 249, 250, 251, 252, 253, 254, 255, 256, 257, 258, 259, 260, 261, 262, 263, 264, 265, 266, 267, 268, 269, 270, 271, 272, 273, 274, 275, 276, 277, 278, 279, 280, 281, 282, 283, 284, 285, 286, 287, 288, 289, 290, 291, 292, 293, 294, 295, 296, 297, 298, 299, 300, 301, 302, 303, 304, 305, 306, 307, 308, 309, 310, 311, 312, 313, 314, 315, 316, 317, 318, 319, 320, 321, 322, 323, 324, 325, 326, 327, 328, 329, 330, 331, 332, 333, 334, 335, 336, 337, 338, 339, 340, 341, 342, 343, 344, 345, 346, 347, 348, 349, 350, 351, 352, 353, 354, 355, 356, 357, 358, 359, 360, 361, 362, 363, 364, 365, 366, 367, 368, 369, 370, 371, 372, 373, 374, 375, 376, 377, 378, 379, 380, 381, 382, 383, 384, 385, 386, 387, 388, 389, 390, 391, 392, 393, 394, 395, 396, 397, 398, 399, 400, 401, 402, 403, 404, 405, 406, 407, 408, 409, 410, 411, 412, 413, 414, 415, 416, 417, 418, 419, 420, 421, 422, 423, 424, 425, 426, 427, 428, 429, 430, 431, 432, 433, 434, 435, 436, 437, 438, 439, 440, 441, 442, 443, 444, 445, 446, 447, 448, 449, 450, 451, 452, 453, 454, 455, 456, 457, 458, 459, 460, 461, 462, 463, 464, 465, 466, 467, 468, 469, 470, 471, 472, 473, 474, 475, 476, 477, 478, 479, 480, 481, 482, 483, 484, 485, 486, 487, 488, 489, 490, 491, 492, 493, 494, 495, 496, 497, 498, 499, 500, 501, 502, 503, 504, 505, 506, 507, 508, 509, 510, 511, 512, 513, 514, 515, 516, 517, 518, 519, 520, 521, 522, 523, 524, 525, 526, 527, 528, 529, 530, 531, 532, 533, 534, 535, 536, 537, 538, 539, 540, 541, 542, 543, 544, 545, 546, 547, 548, 549, 550, 551, 552, 553, 554, 555, 556, 557, 558, 559, 560, 561, 562, 563, 564, 565, 566, 567, 568, 569, 570, 571, 572, 573, 574, 575, 576, 577, 578, 579, 580, 581, 582, 583, 584, 585, 586, 587, 588, 589, 590, 591, 592, 593, 594, 595, 596, 597, 598, 599, 600, 601, 602, 603, 604, 605, 606, 607, 608, 609, 610, 611, 612, 613, 614, 615, 616, 617, 618, 619, 620, 621, 622, 623, 624, 625, 626, 627, 628, 629, 630, 631, 632, 633, 634, 635, 636, 637, 638, 639, 640, 641, 642, 643, 644, 645, 646, 647, 648, 649, 650, 651, 652, 653, 654, 655, 656, 657, 658, 659, 660, 661, 662, 663, 664, 665, 666, 667, 668, 669, 670, 671, 672, 673, 674, 675, 676, 677, 678, 679, 680, 681, 682, 683, 684, 685, 686, 687, 688, 689, 690, 691, 692, 693, 694, 695, 696, 697, 698, 699, 700, 701, 702, 703, 704, 705, 706, 707, 708, 709, 710, 711, 712, 713, 714, 715, 716, 717, 718, 719, 720, 721, 722, 723, 724, 725, 726, 727, 728, 729, 730, 731, 732, 733, 734, 735, 736, 737, 738, 739, 740, 741, 742, 743, 744, 745, 746, 747, 748, 749, 750, 751, 752, 753, 754, 755, 756, 757, 758, 759, 760, 761, 762, 763, 764, 765, 766, 767, 768, 769, 770, 771, 772, 773, 774, 775, 776, 777, 778, 779, 780, 781, 782, 783, 784, 785, 786, 787, 788, 789, 790, 791, 792, 793, 794, 795, 796, 797, 798, 799, 800, 801, 802, 803, 804, 805, 806, 807, 808, 809, 810, 811, 812, 813, 814, 815, 816, 817, 818, 819, 820, 821, 822, 823, 824, 825, 826, 827, 828, 829, 830, 831, 832, 833, 834, 835, 836, 837, 838, 839, 840, 841, 842, 843, 844, 845, 846, 847, 848, 849, 850, 851, 852, 853, 854, 855, 856, 857, 858, 859, 860, 861, 862, 863, 864, 865, 866, 867, 868, 869, 870, 871, 872, 873, 874, 875, 876, 877, 878, 879, 880, 881, 882, 883, 884, 885, 886, 887, 888, 889, 890, 891, 892, 893, 894, 895, 896, 897, 898, 899, 900, 901, 902, 903, 904, 905, 906, 907, 908, 909, 910, 911, 912, 913, 914, 915, 916, 917, 918, 919, 920, 921, 922, 923, 924, 925, 926, 927, 928, 929, 930, 931, 932, 933, 934, 935, 936, 937, 938, 939, 940, 941, 942, 943, 944, 945, 946, 947, 948, 949, 950, 951, 952, 953, 954, 955, 956, 957, 958, 959, 960, 961, 962, 963, 964, 965, 966, 967, 968, 969, 970, 971, 972, 973, 974, 975, 976, 977, 978, 979, 980, 981, 982, 983, 984, 985, 986, 987, 988, 989, 990, 991, 992, 993, 994, 995, 996, 997, 998, 999, 1000, 1001, 1002, 1003, 1004, 1005, 1006, 1007, 1008, 1009, 1010, 1011, 1012, 1013, 1014, 1015, 1016, 1017, 1018, 1019, 1020, 1021, 1022, 1023, 1024, 1025, 1026, 1027, 1028, 1029, 1030, 1031, 1032, 1033, 1034, 1035, 1036, 1037, 1038, 1039, 1040, 1041, 1042, 1043, 1044, 1045, 1046, 1047, 1048, 1049, 1050, 1051, 1052, 1053, 1054, 1055, 1056, 1057, 1058, 1059, 1060, 1061, 1062, 1063, 1064, 1065, 1066, 1067, 1068, 1069, 1070, 1071, 1072, 1073, 1074, 1075, 1076, 1077, 1078, 1079, 1080, 1081, 1082, 1083, 1084, 1085, 1086, 1087, 1088, 1089, 1090, 1091, 1092, 1093, 1094, 1095, 1096, 1097, 1098, 1099, 1100, 1101, 1102, 1103, 1104, 1105, 1106, 1107, 1108, 1109, 1110, 1111, 1112, 1113, 1114, 1115, 1116, 1117, 1118, 1119, 1120, 1121, 1122, 1123, 1124, 1125, 1126, 1127, 1128, 1129, 1130, 1131, 1132, 1133, 1134, 1135, 1136, 1137, 1138, 1139, 1140, 1141, 1142, 1143, 1144, 1145, 1146, 1147, 1148, 1149, 1150, 1151, 1152, 1153, 1154, 1155, 1156, 1157, 1158, 1159, 1160, 1161, 1162, 1163, 1164, 1165, 1166, 1167, 1168, 1169, 1170, 1171, 1172, 1173, 1174, 1175, 1176, 1177, 1178, 1179, 1180, 1181, 1182, 1183, 1184, 1185, 1186, 1187, 1188, 1189, 1190, 1191, 1192, 1193, 1194, 1195, 1196, 1197, 1198, 1199, 1200, 1201, 1202, 1203, 1204, 1205, 1206, 1207, 1208, 1209, 1210, 1211, 1212, 1213, 1214, 1215, 1216, 1217, 1218, 1219, 1220, 1221, 1222, 1223, 1224, 1225, 1226, 1227, 1228, 1229, 1230, 1231, 1232, 1233, 1234, 1235, 1236, 1237, 1238, 1239, 1240, 1241, 1242, 1243, 1244, 1245, 1246, 1247, 1248, 1249, 1250, 1251, 1252, 1253, 1254, 1255, 1256, 1257, 1258, 1259, 1260, 1261, 1262, 1263, 1264, 1265, 1266, 1267, 1268, 1269, 1270, 1271, 1272, 1273, 1274, 1275, 1276, 1277, 1278, 1279, 1280, 1281, 1282, 1283, 1284, 1285, 1286, 1287, 1288, 1289, 1290, 1291, 1292, 1293, 1294, 1295, 1296, 1297, 1298, 1299, 1300, 1301, 1302, 1303, 1304, 1305, 1306, 1307, 1308, 1309, 1310, 1311, 1312, 1313, 1314, 1315, 1316, 1317, 1318, 1319, 1320, 1321, 1322, 1323, 1324, 1325, 1326, 1327, 1328, 1329, 1330, 1331, 1332, 1333, 1334, 1335, 1336, 1337, 1338, 1339, 1340, 1341, 1342, 1343, 1344, 1345, 1346, 1347, 1348, 1349, 1350, 1351, 1352, 1353, 1354, 1355, 1356, 1357, 1358, 1359, 1360, 1361, 1362, 1363, 1364, 1365, 1366, 1367, 1368, 1369, 1370, 1371, 1372, 1373, 1374, 1375, 1376, 1377, 1378, 1379, 1380, 1381, 1382, 1383, 1384, 1385, 1386, 1387, 1388, 1389, 1390, 1391, 1392, 1393, 1394, 1395, 1396, 1397, 1398, 1399, 1400, 1401, 1402, 1403, 1404, 1405, 1406, 1407, 1408, 1409, 1410, 1411, 1412, 1413, 1414, 1415, 1416, 1417, 1418, 1419, 1420, 1421, 1422, 1423, 1424, 1425, 1426, 1427, 1428, 1429, 1430, 1431, 1432, 1433, 1434, 1435, 1436, 1437, 1438, 1439, 1440, 1441, 1442, 1443, 1444, 1445, 1446, 1447, 1448, 1449, 1450, 1451, 1452, 1453, 1454, 1455, 1456, 1457, 1458, 1459, 1460, 1461, 1462, 1463, 1464, 1465, 1466, 1467, 1468, 1469, 1470, 1471, 1472, 1473, 1474, 1475, 1476, 1477, 1478, 1479, 1480, 1481, 1482, 1483, 1484, 1485, 1486, 1487, 1488, 1489, 1490, 1491, 1492, 1493, 1494, 1495, 1496, 1497, 1498, 1499, 1500, 1501, 1502, 1503, 1504, 1505, 1506, 1507, 1508, 1509, 1510, 1511, 1512, 1513, 1514, 1515, 1516, 1517, 1518, 1519, 1520, 1521, 1522, 1523, 1524, 1525, 1526, 1527, 1528, 1529, 1530, 1531, 1532, 1533, 1534, 1535, 1536, 1537, 1538, 1539, 1540, 1541, 1542, 1543, 1544, 1545, 1546, 1547, 1548, 1549, 1550, 1551, 1552, 1553, 1554, 1555, 1556, 1557, 1558, 1559, 1560, 1561, 1562, 1563, 1564, 1565, 1566, 1567, 1568, 1569, 1570, 1571, 1572, 1573, 1574, 1575, 1576, 1577, 1578, 1579, 1580, 1581, 1582, 1583, 1584, 1585, 1586, 1587, 1588, 1589, 1590, 1591, 1592, 1593, 1594, 1595, 1596, 1597, 1598, 1599, 1600, 1601, 1602, 1603, 1604, 1605, 1606, 1607, 1608, 1609, 1610, 1611, 1612, 1613, 1614, 1615, 1616, 1617, 1618, 1619, 1620, 1621, 1622, 1623, 1624, 1625, 1626, 1627, 1628, 1629, 1630, 1631, 1632, 1633, 1634, 1635, 1636, 1637, 1638, 1639, 1640, 1641, 1642, 1643, 1644, 1645, 1646, 1647, 1648, 1649, 1650, 1651, 1652, 1653, 1654, 1655, 1656, 1657, 1658, 1659, 1660, 1661, 1662, 1663, 1664, 1665, 1666, 1667, 1668, 1669, 1670, 1671, 1672, 1673, 1674, 1675, 1676, 1677, 1678, 1679, 1680, 1681, 1682, 1683, 1684, 1685, 1686, 1687, 1688, 1689, 1690, 1691, 1692, 1693, 1694, 1695, 1696, 1697, 1698, 1699, 1700, 1701, 1702, 1703, 1704, 1705, 1706, 1707, 1708, 1709, 1710, 1711, 1712, 1713, 1714, 1715, 1716, 1717, 1718, 1719, 1720, 1721, 1722, 1723, 1724, 1725, 1726, 1727, 1728, 1729, 1730, 1731, 1732, 1733, 1734, 1735, 1736, 1737, 1738, 1739, 1740, 1741, 1742, 1743, 1744, 1745, 1746, 1747, 1748, 1749, 1750, 1751, 1752, 1753, 1754, 1755, 1756, 1757, 1758, 1759, 1760, 1761, 1762, 1763, 1764, 1765, 1766, 1767, 1768, 1769, 1770, 1771, 1772, 1773, 1774, 1775, 1776, 1777, 1778, 1779, 1780, 1781, 1782, 1783, 1784, 1785, 1786, 1787, 1788, 1789, 1790, 1791, 1792, 1793, 1794, 1795, 1796, 1797, 1798, 1799, 1800, 1801, 1802, 1803, 1804, 1805, 1806, 1807, 1808, 1809, 1810, 1811, 1812, 1813, 1814, 1815, 1816, 1817, 1818, 1819, 1820, 1821, 1822, 1823, 1824, 1825, 1826, 1827, 1828, 1829, 1830, 1831, 1832, 1833, 1834, 1835, 1836, 1837, 1838, 1839, 1840, 1841, 1842, 1843, 1844, 1845, 1846, 1847, 1848, 1849, 1850, 1851, 1852, 1853, 1854, 1855, 1856, 1857, 1858, 1859, 1860, 1861, 1862, 1863, 1864, 1865, 1866, 1867, 1868, 1869, 1870, 1871, 1872, 1873, 1874, 1875, 1876, 1877, 1878, 1879, 1880, 1881, 1882, 1883, 1884, 1885, 1886, 1887, 1888, 1889, 1890, 1891, 1892, 1893, 1894, 1895, 1896, 1897, 1898, 1899, 1900, 1901, 1902, 1903, 1904, 1905, 1906, 1907, 1908, 1909, 1910, 1911, 1912, 1913, 1914, 1915, 1916, 1917, 1918, 1919, 1920, 1921, 1922, 1923, 1924, 1925, 1926, 1927, 1928, 1929, 1930, 1931, 1932, 1933, 1934, 1935, 1936, 1937, 1938, 1939, 1940, 1941, 1942, 1943, 1944, 1945, 1946, 1947, 1948, 1949, 1950, 1951, 1952, 1953, 1954, 1955, 1956, 1957, 1958, 1959, 1960, 1961, 1962, 1963, 1964, 1965, 1966, 1967, 1968, 1969, 1970, 1971, 1972, 1973, 1974, 1975, 1976, 1977, 1978, 1979, 1980, 1981, 1982, 1983, 1984, 1985, 1986, 1987, 1988, 1989, 1990, 1991, 1992, 1993, 1994, 1995, 1996, 1997, 1998, 1999, 2000, 2001, 2002, 2003, 2004, 2005, 2006, 2007, 2008, 2009, 2010, 2011, 2012, 2013, 2014, 2015, 2016, 2017, 2018, 2019, 2020, 2021, 2022, 2023, 2024, 2025, 2026, 2027, 2028, 2029, 2030, 2031, 2032, 2033, 2034, 2035, 2036, 2037, 2038, 2039, 2040, 2041, 2042, 2043, 2044, 2045, 2046, 2047, 2048, 2049, 2050, 2051, 2052, 2053, 2054, 2055, 2056, 2057, 2058, 2059, 2060, 2061, 2062, 2063, 2064, 2065, 2066, 2067, 2068, 2069, 2070, 2071, 2072, 2073]\n",
      "[2074, 2075, 2076, 2077, 2078, 2079, 2080, 2081, 2082, 2083, 2084, 2085, 2086, 2087, 2088, 2089, 2090, 2091, 2092, 2093, 2094, 2095, 2096, 2097, 2098, 2099, 2100, 2101, 2102, 2103, 2104, 2105, 2106, 2107, 2108, 2109, 2110, 2111, 2112, 2113, 2114, 2115, 2116, 2117, 2118, 2119, 2120, 2121, 2122, 2123, 2124, 2125, 2126, 2127, 2128, 2129, 2130, 2131, 2132, 2133, 2134, 2135, 2136, 2137, 2138, 2139, 2140, 2141, 2142, 2143, 2144, 2145, 2146, 2147, 2148, 2149, 2150, 2151, 2152, 2153, 2154, 2155, 2156, 2157, 2158, 2159, 2160, 2161, 2162, 2163, 2164, 2165, 2166, 2167, 2168, 2169, 2170, 2171, 2172, 2173, 2174, 2175, 2176, 2177, 2178, 2179, 2180, 2181, 2182, 2183, 2184, 2185, 2186, 2187, 2188, 2189, 2190, 2191, 2192, 2193, 2194, 2195, 2196, 2197, 2198, 2199, 2200, 2201, 2202, 2203, 2204, 2205, 2206, 2207, 2208, 2209, 2210, 2211, 2212, 2213, 2214, 2215, 2216, 2217, 2218, 2219, 2220, 2221, 2222, 2223, 2224, 2225, 2226, 2227, 2228, 2229, 2230, 2231, 2232, 2233, 2234, 2235, 2236, 2237, 2238, 2239, 2240, 2241, 2242, 2243, 2244, 2245, 2246, 2247, 2248, 2249, 2250, 2251, 2252, 2253, 2254, 2255, 2256, 2257, 2258, 2259, 2260, 2261, 2262, 2263, 2264, 2265, 2266, 2267, 2268, 2269, 2270, 2271, 2272, 2273, 2274, 2275, 2276, 2277, 2278, 2279, 2280, 2281, 2282, 2283, 2284, 2285, 2286, 2287, 2288, 2289, 2290, 2291, 2292, 2293, 2294, 2295, 2296, 2297, 2298, 2299, 2300, 2301, 2302, 2303, 2304, 2305, 2306, 2307, 2308, 2309, 2310, 2311, 2312, 2313, 2314, 2315, 2316, 2317, 2318, 2319, 2320, 2321, 2322, 2323, 2324, 2325, 2326, 2327, 2328, 2329, 2330, 2331, 2332, 2333, 2334, 2335, 2336, 2337, 2338, 2339, 2340, 2341, 2342, 2343, 2344, 2345, 2346, 2347, 2348, 2349, 2350, 2351, 2352, 2353, 2354, 2355, 2356, 2357, 2358, 2359, 2360, 2361, 2362, 2363, 2364, 2365, 2366, 2367, 2368, 2369, 2370, 2371, 2372, 2373, 2374, 2375, 2376, 2377, 2378, 2379, 2380, 2381, 2382, 2383, 2384, 2385, 2386, 2387, 2388, 2389, 2390, 2391, 2392, 2393, 2394, 2395, 2396, 2397, 2398, 2399, 2400, 2401, 2402, 2403, 2404, 2405, 2406, 2407, 2408, 2409, 2410, 2411, 2412, 2413, 2414, 2415, 2416, 2417, 2418, 2419, 2420, 2421, 2422, 2423, 2424, 2425, 2426, 2427, 2428, 2429, 2430, 2431, 2432, 2433, 2434, 2435, 2436, 2437, 2438, 2439, 2440, 2441, 2442, 2443, 2444, 2445, 2446, 2447, 2448, 2449, 2450, 2451, 2452, 2453, 2454, 2455, 2456, 2457, 2458, 2459, 2460, 2461, 2462, 2463, 2464, 2465, 2466, 2467, 2468, 2469, 2470, 2471, 2472, 2473, 2474, 2475, 2476, 2477, 2478, 2479, 2480, 2481, 2482, 2483, 2484, 2485, 2486, 2487, 2488, 2489, 2490, 2491, 2492, 2493, 2494, 2495, 2496, 2497, 2498, 2499, 2500, 2501, 2502, 2503, 2504, 2505, 2506, 2507, 2508, 2509, 2510, 2511, 2512, 2513, 2514, 2515, 2516, 2517, 2518, 2519, 2520, 2521, 2522, 2523, 2524, 2525, 2526, 2527, 2528, 2529, 2530, 2531, 2532, 2533, 2534, 2535, 2536, 2537, 2538, 2539, 2540, 2541, 2542, 2543, 2544, 2545, 2546, 2547, 2548, 2549, 2550, 2551, 2552, 2553, 2554, 2555, 2556, 2557, 2558, 2559, 2560, 2561, 2562, 2563, 2564, 2565, 2566, 2567, 2568, 2569, 2570, 2571, 2572, 2573, 2574, 2575, 2576, 2577, 2578, 2579, 2580, 2581]\n"
     ]
    },
    {
     "name": "stdout",
     "output_type": "stream",
     "text": [
      "[990, 1551, 1359, 106, 1566, 1495, 1011, 1055, 1057, 2016, 226, 311, 1576, 954, 320, 2053, 900, 670, 2004, 1876, 505, 864, 173, 1464, 927, 1095, 1056, 91, 1196, 906, 1716, 1550, 1481, 782, 1763, 1085, 1131, 215, 648, 1857, 378, 1702, 1663, 878, 439, 1211, 1794, 1511, 1101, 2062, 1135, 946, 1912, 1915, 19, 1365, 1180, 844, 882, 2002, 1776, 1179, 1153, 1238, 2050, 1717, 707, 1461, 870, 781, 1708, 1958, 1734, 268, 529, 1605, 1332, 484, 930, 933, 287, 4, 1190, 1385, 1674, 1544, 389, 955, 239, 1575, 740, 1675, 243, 218, 572, 1860, 1134, 3, 506, 1826, 6, 1871, 1713, 1139, 1146, 812, 1297, 1866, 1720, 232, 1635, 739, 1977, 1925, 623, 1104, 1286, 1363, 345, 916, 1744, 792, 1867, 298, 398, 1112, 797, 461, 659, 992, 533, 1698, 1618, 577, 1236, 1053, 671, 1175, 908, 1950, 1496, 1100, 1311, 967, 1528, 1350, 2039, 234, 354, 2056, 1645, 1052, 1351, 1833, 435, 1624, 657, 1298, 195, 1218, 164, 1909, 649, 831, 963, 1589, 1834, 976, 1485, 156, 485, 1020, 1700, 1539, 596, 2017, 1352, 564, 1189, 1870, 24, 1443, 1256, 920, 1802, 252, 1357, 70, 251, 396, 1003, 1341, 1380, 1817, 1382, 1066, 162, 1913, 1738, 619, 2060, 1229, 602, 481, 79, 488, 1274, 317, 1789, 1283, 677, 826, 689, 1148, 1416, 1830, 307, 1209, 183, 364, 800, 179, 1258, 2, 1471, 1063, 582, 974, 726, 111, 1217, 140, 1601, 1709, 1515, 2010, 881, 961, 224, 1370, 216, 2022, 1281, 591, 1036, 1436, 350, 178, 1892, 727, 33, 1448, 999, 1875, 96, 1039, 768, 1594, 99, 152, 1697, 436, 210, 592, 590, 1953, 613, 1282, 1569, 1081, 598, 386, 323, 1807, 866, 1666, 738, 989, 968, 456, 1162, 1942, 2055, 1535, 1572, 898, 1226, 1336, 991, 1696, 1743, 1845, 129, 1782, 391, 874, 524, 1082, 714, 468, 1353, 1512, 783, 2071, 8, 1929, 133, 103, 1669, 722, 1706, 571, 1591, 936, 372, 965, 1234, 17, 641, 65, 104, 824, 610, 813, 68, 1819, 67, 32, 1137, 542, 1187, 747, 537, 699, 925, 510, 1818, 834, 1374, 61, 1676, 40, 1291, 169, 626, 953, 872, 127, 814, 877, 1046, 438, 1753, 1749, 94, 377, 338, 1144, 1984, 334, 799, 63, 1911, 1778, 455, 1420, 705, 1587, 1392, 779, 2020, 1792, 227, 1, 132, 1812, 1022, 890, 1625, 1949, 1970, 126, 161, 859, 1837, 1393, 1376, 2064, 30, 434, 327, 237, 1138, 853, 1427, 1838, 291, 1852, 1459, 628, 1799, 574, 15, 798, 1074, 416, 1410, 445, 141, 1261, 1760, 1574, 1525, 1740, 292, 957, 1976, 344, 27, 1378, 400, 1885, 371, 1843, 614, 1177, 1968, 254, 660, 255, 1791, 806, 2003, 2073, 270, 1223, 1889, 1960, 229, 639, 1071, 1068, 1520, 769, 817, 112, 1975, 480, 1721, 1494, 1244, 654, 1848, 1839, 2027, 2049, 1633, 1247, 121, 1597, 382, 1458, 1614, 934, 980, 1235, 547, 1194, 2069, 1718, 1188, 1656, 1322, 1750, 773, 1824, 836, 1060, 303, 1220, 53, 1787, 1686, 1790, 601, 913, 833, 646, 502, 981, 1529, 1296, 1972, 2025, 1058, 756, 228, 260, 1141, 1472, 26, 1059, 395, 849, 548, 1519, 470, 1325, 442, 2032, 1231, 1648, 492, 1132, 1405, 786, 504, 1974, 1399, 1978, 443, 163, 850, 616, 841, 527, 199, 159, 2040, 1823, 522, 441, 466, 1049, 538, 903, 1856, 1025, 2061, 1966, 970, 1752, 847, 172, 1510, 1751, 1165, 374, 1991, 1454, 1354, 1086, 695, 518, 1559, 1015, 1854, 827, 629, 459, 134, 635, 693, 7, 2063, 1346, 691, 409, 155, 423, 803, 1670, 706, 1368, 1449, 1154, 1523, 46, 490, 1035, 81, 1526, 645, 1951, 832, 805, 1555, 1221, 184, 153, 1636, 321, 332, 10, 193, 1742, 1445, 1309, 723, 718, 2031, 1152, 1604, 1735, 1517, 1269, 1801, 1927, 1432, 685, 543, 982, 59, 1083, 1603, 682, 1400, 696, 85, 879, 567, 324, 1452, 212, 393, 1969, 1521, 535, 1279, 1342, 207, 299, 1287, 1166, 1719, 557, 1881, 2033, 1557, 764, 661, 284, 1639, 1755, 772, 637, 384, 2012, 1641, 421, 1391, 516, 74, 1724, 1313, 1683, 425, 911, 778, 1463, 944, 811, 427, 2008, 288, 1687, 1945, 1289, 1620, 5, 1783, 383, 625, 38, 1998, 312, 71, 2009, 1541, 1585, 1145, 1456, 257, 1547, 1898, 13, 1030, 1773, 1435, 928, 1564, 11, 960, 579, 1835, 863, 1652, 1117, 206, 1295, 1986, 1034, 520, 2007, 1643, 634, 1413, 231, 1014, 640, 1245, 525, 951, 381, 1158, 1923, 476, 1418, 975, 1387, 888, 1533, 1685, 1077, 924, 1644, 263, 240, 1033, 1021, 168, 1017, 1981, 861, 322, 910, 1344, 1173, 330, 341, 465, 1582, 414, 1389, 681, 1501, 1878, 1995, 668, 1851, 131, 1882, 1326, 220, 1507, 1490, 151, 39, 1513, 1434, 1894, 208, 1631, 1899, 109, 368, 1928, 1276, 1422, 84, 553, 1450, 1623, 52, 1946, 196, 1701, 594, 213, 1084, 1844, 1069, 1491, 399, 1917, 1921, 758, 1125, 1562, 1767, 1780, 1372, 1599, 143, 820, 1955, 101, 2006, 1078, 763, 830, 1737, 1841, 37, 597, 1890, 885, 857, 44, 1832, 1847, 655, 1043, 570, 1739, 915, 952, 848, 1646, 1328, 1338, 556, 1087, 205, 1756, 1732, 412, 904, 1428, 605, 236, 1509, 245, 1795, 969, 297, 1586, 1672, 1348, 1051, 1668, 428, 733, 1516, 1404, 1290, 1108, 852, 1710, 1571, 1361, 1684, 1246, 1828, 749, 1417, 458, 214, 1273, 1156, 1689, 987, 64, 559, 943, 1252, 754, 735, 1590, 1331, 72, 810, 737, 1010, 1186, 1836, 1250, 89, 1265, 1638, 1102, 475, 897, 937, 983, 615, 454, 135, 1705, 253, 643, 694, 939, 1204, 73, 633, 1263, 1725, 1335, 1318, 1967, 1395, 1255, 185, 1602, 244, 1560, 1891, 541, 1820, 1169, 433, 745, 1329, 1285, 1065, 1769, 1910, 302, 679, 1607, 419, 1120, 1473, 1900, 1210, 47, 1822, 1667, 1990, 862, 451, 1293, 1219, 142, 926, 357, 1730, 899, 746, 170, 1806, 1136, 1157, 729, 530, 1333, 552, 622, 1401, 1337, 1797, 1592, 1879, 1388, 1150, 1493, 1611, 370, 361, 988, 958, 2035, 2067, 56, 31, 586, 1642, 713, 1272, 1444, 606, 795, 1932, 124, 720, 483, 964, 1267, 1695, 678, 562, 479, 78, 1178, 1457, 1008, 565, 771, 1266, 1031, 1514, 482, 397, 1831, 1412, 1902, 55, 181, 1987, 1182, 909, 1124, 192, 1808, 1662, 1985, 1948, 1130, 1849, 494, 83, 93, 146, 1935, 2046, 651, 656, 1253, 589, 609, 748, 583, 585, 1109, 379, 1815, 495, 880, 328, 618, 496, 838, 704, 1330, 463, 501, 1201, 500, 107, 1703, 339, 1774, 907, 1239, 1044, 884, 305, 1407, 355, 971, 1522, 1159, 86, 652, 300, 627, 1922, 996, 295, 503, 893, 1465, 560, 600, 1813, 801, 1996, 809, 144, 1002, 759, 491, 794, 1901, 1567, 2037, 1583, 1971, 1727, 1699, 1858, 429, 894, 1924, 563, 200, 561, 1486, 867, 1477, 1064, 1930, 777, 945, 1527, 1771, 1098, 404, 82, 962, 584, 1224, 1072, 450, 1613, 994, 658, 892, 835, 1254, 51, 684, 1722, 175, 1729, 1534, 1805, 241, 1425, 186, 1723, 787, 650, 449, 1089, 1237, 380, 1129, 1103, 426, 753, 130, 1546, 1980, 581, 14, 1050, 1681, 1054, 2001, 314, 1215, 632, 281, 750, 250, 422, 472, 45, 1079, 304, 1612, 1369, 1661, 249, 417, 1655, 703, 2057, 1488, 662, 1355, 2041, 1973, 2029, 1310, 950, 544, 721, 100, 1228, 1324, 2023, 761, 62, 1554, 686, 1931, 901, 1487, 624, 1956, 734, 895, 331, 1893, 644, 279, 1149, 1026, 540, 2026, 1862, 1887, 1982, 599, 755, 1855, 914, 1200, 512, 1334, 1105, 1779, 1096, 784, 280, 1240, 1503, 1593, 1191, 1853, 860, 536, 837, 1606, 554, 2014, 376, 1796, 460, 1908, 358, 942, 1394, 1938, 1379, 546, 1762, 921, 2047, 578, 440, 97, 437, 390, 1383, 631, 1314, 1733, 917, 1397, 2042, 1257, 1307, 1505, 165, 1423, 829, 1300, 1122, 843, 408, 76, 825, 948, 1424, 20, 259, 407, 1482, 995, 1531, 498, 1111, 319, 663, 1581, 336, 9, 2038, 418, 1241, 347, 673, 1680, 977, 242, 1174, 1381, 1906, 842, 2011, 938, 1315, 1183, 402, 789, 174, 48, 367, 528, 1451, 315, 1758, 366, 348, 1113, 256, 21, 845, 265, 1926, 405, 406, 326, 1793, 351, 1143, 1993, 1506, 1800, 1997, 58, 2019, 1784, 1426, 1437, 136, 855, 1688, 1466, 57, 444, 780, 1478, 1726, 1873, 875, 261, 1099, 1952, 1842, 1107, 1047, 993, 1677, 1497, 1184, 865, 2013, 896, 854, 1619, 1947, 1598, 1000, 1469, 177, 712, 363, 18, 1545, 12, 420, 1147, 744, 211, 1181, 1707, 1992, 139, 1829, 1088, 182, 308, 1230, 1682, 1453, 717, 1001, 29, 1761, 2048, 219, 1861, 807, 688, 1504, 1850, 478, 387, 269, 1195, 1610, 1884, 1206, 1786, 851, 275, 675, 1637, 2034, 60, 1321, 2044, 669, 432, 767, 2066, 1447, 92, 818, 743, 137, 555, 1225, 225, 431, 1467, 741, 1905, 1067, 388, 120, 1430, 190, 580, 108, 329, 187, 1358, 1212, 113, 1306, 469, 514, 828, 1736, 158, 1327, 1294, 905, 1553, 1798, 365, 1936, 730, 1198, 1768, 125, 1628, 1957, 1292, 25, 1693, 716, 545, 604, 1406, 1037, 593, 1302, 1075, 1128, 116, 513, 1659, 621, 1629, 310, 1303, 1390, 732, 607, 2024, 1691, 1168, 608, 1048, 1492, 276, 1455, 1305, 1362, 1665, 1408, 1654, 258, 401, 342, 1552, 902, 858, 1421, 1126, 1962, 765, 774, 638, 509, 766, 1745, 1580, 373, 1323, 1747, 1647, 1384, 2058, 1004, 1040, 1775, 1161, 1907, 1163, 776, 742, 1914, 453, 1271, 1568, 1814, 956, 360, 1616, 415, 293, 1728, 612, 1199, 1442, 1944, 775, 359, 353, 1170, 1499, 149, 1415, 1556, 80, 698, 277, 1777, 1549, 519, 653, 1207, 188, 1939, 1934, 1251, 325, 1816, 217, 138, 42, 1895, 1772, 447, 1964, 154, 1343, 1518, 457, 1859, 301, 1943, 69, 392, 1640, 821, 752, 1649, 1918, 922, 1678, 1608, 1999, 1692, 1704, 1759, 1032, 664, 119, 222, 1419, 770, 335, 1205, 929, 549, 647, 1920, 385, 868, 966, 1650, 1278, 1172, 1320, 1712, 1155, 118, 1371, 1868, 680, 1029, 238, 603, 1347, 296, 1006, 197, 1694, 815, 1349, 856, 887, 123, 1260, 473, 497, 289, 1366, 166, 1480, 274, 1242, 28, 972, 1615, 499, 1874, 1431, 191, 1460, 891, 702, 102, 978, 1781, 1596, 248, 611, 1439, 446, 2018, 1983, 1573, 793, 979, 1202, 2000, 1988, 1825, 912, 630, 1904, 356, 1142, 128, 1316, 223, 1164, 568, 1846, 1227, 876, 1538, 1484, 171, 1940, 507, 1621, 467, 230, 1746, 575, 1232, 1475, 77, 918, 2030, 796, 1115, 1508, 1872, 889, 1558, 1810, 110, 1570, 1007, 36, 1600, 474, 1537, 1470, 1840, 202, 266, 1785, 1016, 1171, 1023, 511, 1886, 35, 285, 1609, 708, 1277, 411, 1715, 1110, 1299, 1340, 1804, 2059, 1119, 22, 808, 105, 221, 940, 2065, 802, 1532, 666, 114, 1770, 1563, 1127, 43, 464, 369, 1731, 687, 1489, 573, 318, 873, 1803, 1028, 0, 1690, 1364, 526, 932, 1061, 1937, 1474, 1367, 1013, 1632, 1595, 1664, 1402, 180, 576, 1094, 1284, 1203, 791, 203, 711, 636, 1933, 1548, 1903, 1375, 1679, 1963, 362, 1019, 1038, 1530, 672, 117, 167, 1979, 1660, 1865, 1160, 2021, 477, 2045, 1070, 286, 931, 521, 1479, 1880, 343, 1193, 1500, 1377, 751, 1657, 1811, 283, 941, 819, 1208, 839, 1403, 1584, 1542, 1617, 148, 620, 306, 587, 1634, 34, 1360, 1543, 919, 558, 375, 1097, 1965, 1954, 1373, 1536, 1268, 1012, 1114, 1123, 98, 157, 349, 1959, 313, 49, 493, 1140, 1578, 452, 822, 1398, 66, 394, 333, 1009, 1863, 1339, 1941, 1864, 262, 1540, 54, 1765, 725, 869, 1106, 785, 294, 1579, 267, 998, 1288, 16, 1658, 1248, 23, 87, 489, 337, 731, 588, 1133, 204, 346, 290, 719, 959, 2028, 883, 2052, 1216, 531, 278, 1754, 413, 1433, 1076, 273, 50, 523, 1062, 923, 410, 1441, 1301, 1118, 1249, 352, 728, 90, 1116, 1386, 1764, 690, 1916, 1041, 1233, 1561, 462, 235, 75, 1091, 1176, 790, 309, 515, 115, 724, 736, 201, 692, 122, 517, 532, 508, 1626, 539, 160, 264, 1092, 448, 985, 1809, 1671, 2043, 804, 271, 1317, 1788, 145, 430, 150, 247, 1167, 1888, 1121, 1989, 1345, 697, 1319, 551, 1414, 617, 1714, 1214, 949, 1438, 1259, 1151, 471, 1080, 757, 569, 424, 1748, 1565, 1090, 2036, 1757, 1653, 1042, 674, 997, 1883, 1005, 1588, 1622, 1192, 1446, 1897, 550, 1409, 935, 1270, 871, 1673, 282, 683, 147, 840, 194, 233, 246, 1222, 1440, 95, 1356, 1462, 1502, 701, 1304, 209, 709, 340, 198, 886, 1994, 2068, 1073, 487, 595, 816, 2005, 1869, 1468, 1411, 947, 1275, 1627, 1262, 2051, 1919, 667, 1197, 1024, 1741, 710, 176, 788, 1429, 1045, 403, 88, 676, 1821, 986, 1961, 189, 762, 534, 1243, 41, 1476, 1308, 1827, 2070, 846, 715, 1280, 566, 1630, 1711, 1213, 1577, 1651, 1498, 665, 700, 642, 1766, 973, 1877, 316, 1524, 1093, 2015, 2072, 984, 1312, 1018, 1896, 1027, 2054, 272, 1396, 1483, 1264, 1185, 760, 486, 823, 2569, 2349, 2078, 2276, 2111, 2324, 2374, 2402, 2151, 2319, 2545, 2459, 2382, 2436, 2416, 2228, 2461, 2243, 2491, 2306, 2188, 2413, 2521, 2177, 2219, 2576, 2340, 2203, 2578, 2462, 2344, 2186, 2196, 2400, 2144, 2518, 2433, 2220, 2232, 2480, 2122, 2338, 2125, 2564, 2197, 2380, 2366, 2217, 2262, 2446, 2450, 2237, 2295, 2499, 2206, 2568, 2241, 2132, 2089, 2345, 2325, 2557, 2115, 2074, 2259, 2331, 2398, 2536, 2284, 2464, 2309, 2247, 2138, 2487, 2230, 2406, 2160, 2385, 2401, 2208, 2570, 2258, 2198, 2407, 2519, 2423, 2558, 2215, 2320, 2341, 2373, 2310, 2282, 2527, 2316, 2411, 2145, 2164, 2322, 2390, 2387, 2296, 2455, 2205, 2368, 2092, 2383, 2437, 2086, 2162, 2386, 2140, 2477, 2510, 2127, 2535, 2273, 2094, 2547, 2229, 2334, 2574, 2537, 2113, 2314, 2327, 2126, 2567, 2110, 2225, 2199, 2293, 2336, 2317, 2530, 2101, 2494, 2369, 2556, 2460, 2337, 2555, 2095, 2085, 2388, 2328, 2540, 2543, 2482, 2106, 2468, 2399, 2158, 2467, 2170, 2376, 2333, 2550, 2181, 2506, 2210, 2076, 2323, 2512, 2430, 2120, 2246, 2367, 2163, 2534, 2294, 2283, 2099, 2453, 2339, 2266, 2392, 2193, 2549, 2238, 2178, 2153, 2332, 2426, 2465, 2488, 2299, 2211, 2224, 2444, 2204, 2507, 2218, 2289, 2116, 2357, 2463, 2179, 2105, 2159, 2318, 2242, 2274, 2253, 2231, 2529, 2165, 2360, 2434, 2236, 2404, 2524, 2492, 2490, 2264, 2493, 2486, 2395, 2372, 2133, 2408, 2551, 2300, 2129, 2171, 2418, 2489, 2083, 2419, 2396, 2245, 2279, 2297, 2441, 2581, 2572, 2213, 2501, 2559, 2516, 2484, 2301, 2500, 2473, 2157, 2548, 2146, 2265, 2187, 2131, 2183, 2182, 2456, 2485, 2175, 2226, 2114, 2135, 2234, 2352, 2445, 2152, 2580, 2257, 2498, 2202, 2090, 2287, 2248, 2313, 2227, 2280, 2475, 2112, 2451, 2508, 2214, 2275, 2370, 2139, 2109, 2261, 2312, 2354, 2579, 2209, 2091, 2201, 2513, 2449, 2123, 2483, 2435, 2375, 2286, 2190, 2566, 2102, 2130, 2277, 2173, 2415, 2267, 2200, 2079, 2103, 2075, 2448, 2223, 2128, 2511, 2561, 2514, 2147, 2351, 2525, 2532, 2298, 2391, 2084, 2410, 2474, 2098, 2515, 2088, 2346, 2134, 2577, 2256, 2526, 2251, 2212, 2292, 2528, 2270, 2184, 2481, 2329, 2302, 2150, 2107, 2305, 2207, 2409, 2523, 2315, 2394, 2452, 2469, 2104, 2269, 2108, 2479, 2432, 2553, 2542, 2335, 2148, 2233, 2440, 2174, 2311, 2504, 2563, 2393, 2149, 2216, 2191, 2355, 2087, 2252, 2161, 2118, 2239, 2520, 2097, 2281, 2096, 2571, 2192, 2082, 2503, 2176, 2137, 2260, 2155, 2359, 2565, 2509, 2100, 2478, 2180, 2240, 2422, 2154, 2544, 2457, 2250, 2414, 2194, 2117, 2362, 2307, 2472, 2421, 2458, 2384, 2278, 2347, 2505, 2428, 2442, 2093, 2141, 2502, 2167, 2397, 2381, 2272, 2343, 2143, 2326, 2554, 2255, 2156, 2254, 2350, 2522, 2121, 2470, 2136, 2412, 2142, 2531, 2285, 2168, 2221, 2304, 2429, 2403, 2244, 2438, 2290, 2495, 2263, 2169, 2348, 2539, 2560, 2424, 2342, 2425, 2172, 2363, 2431, 2080, 2249, 2361, 2364, 2378, 2271, 2356, 2268, 2321, 2365, 2405, 2308, 2573, 2077, 2166, 2358, 2541, 2427, 2189, 2235, 2552, 2420, 2195, 2447, 2303, 2417, 2476, 2377, 2454, 2466, 2124, 2288, 2471, 2291, 2562, 2443, 2185, 2533, 2517, 2371, 2222, 2497, 2575, 2439, 2496, 2353, 2379, 2389, 2546, 2119, 2538, 2081, 2330]\n",
      "2582\n"
     ]
    },
    {
     "name": "stdout",
     "output_type": "stream",
     "text": [
      "[[0 0 0 ... 0 0 0]\n",
      " [0 0 0 ... 0 0 0]\n",
      " [0 0 0 ... 0 0 0]\n",
      " ...\n",
      " [0 0 0 ... 0 0 0]\n",
      " [0 0 0 ... 0 0 0]\n",
      " [0 0 0 ... 0 0 0]]\n",
      "[[0 0 0 ... 0 0 0]\n",
      " [0 0 0 ... 0 0 0]\n",
      " [0 0 0 ... 0 0 0]\n",
      " ...\n",
      " [0 0 0 ... 0 0 0]\n",
      " [0 0 0 ... 0 0 0]\n",
      " [0 0 0 ... 0 0 0]]\n",
      "(1867, 100) (1867, 129) (508, 100) (508, 129) (8881, 100) (8881, 129)\n"
     ]
    }
   ],
   "source": [
    "import os\n",
    "import random\n",
    "import numpy as np\n",
    "import pickle as pkl\n",
    "import networkx as nx\n",
    "import scipy.sparse as sp\n",
    "from utils import loadWord2Vec, clean_str\n",
    "from math import log\n",
    "from sklearn import svm\n",
    "from nltk.corpus import wordnet as wn\n",
    "from sklearn.feature_extraction.text import TfidfVectorizer\n",
    "import sys\n",
    "from scipy.spatial.distance import cosine\n",
    "\n",
    "\n",
    "# Read Word Vectors\n",
    "# word_vector_file = 'pyG_implement/data/glove.6B/glove.6B.300d.txt'\n",
    "# word_vector_file = 'pyG_implement/data/corpus/' + dataset + '_word_vectors.txt'\n",
    "#_, embd, word_vector_map = loadWord2Vec(word_vector_file)\n",
    "# word_embeddings_dim = len(embd[0])\n",
    "\n",
    "word_embeddings_dim = 100  #Word embedding dimension(100 - 300)\n",
    "word_vector_map = {}\n",
    "\n",
    "# shulffing\n",
    "doc_name_list = []\n",
    "doc_train_list = []\n",
    "doc_test_list = []\n",
    "\n",
    "f = open('pyG_implement/data/' + dataset + '.txt', 'r')\n",
    "lines = f.readlines()\n",
    "for line in lines:\n",
    "    doc_name_list.append(line.strip())\n",
    "    temp = line.split(\"\\t\")\n",
    "    if temp[1].find('test') != -1:\n",
    "        doc_test_list.append(line.strip())\n",
    "    elif temp[1].find('train') != -1:\n",
    "        doc_train_list.append(line.strip())\n",
    "f.close()\n",
    "# print(doc_train_list)\n",
    "# print(doc_test_list)\n",
    "\n",
    "doc_content_list = []\n",
    "f = open('pyG_implement/data/corpus/' + dataset + '.clean.txt', 'r')\n",
    "lines = f.readlines()\n",
    "for line in lines:\n",
    "    doc_content_list.append(line.strip())\n",
    "f.close()\n",
    "# print(doc_content_list)\n",
    "\n",
    "train_ids = []\n",
    "for train_name in doc_train_list:\n",
    "    train_id = doc_name_list.index(train_name)\n",
    "    train_ids.append(train_id)\n",
    "print(train_ids)\n",
    "random.shuffle(train_ids)\n",
    "\n",
    "# partial labeled data\n",
    "#train_ids = train_ids[:int(0.2 * len(train_ids))]\n",
    "\n",
    "train_ids_str = '\\n'.join(str(index) for index in train_ids)\n",
    "f = open('pyG_implement/data/' + dataset + '.train.index', 'w')\n",
    "f.write(train_ids_str)\n",
    "f.close()\n",
    "\n",
    "test_ids = []\n",
    "for test_name in doc_test_list:\n",
    "    test_id = doc_name_list.index(test_name)\n",
    "    test_ids.append(test_id)\n",
    "print(test_ids)\n",
    "random.shuffle(test_ids)\n",
    "\n",
    "test_ids_str = '\\n'.join(str(index) for index in test_ids)\n",
    "f = open('pyG_implement/data/' + dataset + '.test.index', 'w')\n",
    "f.write(test_ids_str)\n",
    "f.close()\n",
    "\n",
    "ids = train_ids + test_ids\n",
    "print(ids)\n",
    "print(len(ids))\n",
    "\n",
    "shuffle_doc_name_list = []\n",
    "shuffle_doc_words_list = []\n",
    "for id in ids:\n",
    "    shuffle_doc_name_list.append(doc_name_list[int(id)])\n",
    "    shuffle_doc_words_list.append(doc_content_list[int(id)])\n",
    "shuffle_doc_name_str = '\\n'.join(shuffle_doc_name_list)\n",
    "shuffle_doc_words_str = '\\n'.join(shuffle_doc_words_list)\n",
    "\n",
    "f = open('pyG_implement/data/' + dataset + '_shuffle.txt', 'w')\n",
    "f.write(shuffle_doc_name_str)\n",
    "f.close()\n",
    "\n",
    "f = open('pyG_implement/data/corpus/' + dataset + '_shuffle.txt', 'w')\n",
    "f.write(shuffle_doc_words_str)\n",
    "f.close()\n",
    "\n",
    "# build vocab\n",
    "word_freq = {}\n",
    "word_set = set()\n",
    "for doc_words in shuffle_doc_words_list:\n",
    "    words = doc_words.split()\n",
    "    for word in words:\n",
    "        word_set.add(word)\n",
    "        if word in word_freq:\n",
    "            word_freq[word] += 1\n",
    "        else:\n",
    "            word_freq[word] = 1\n",
    "\n",
    "vocab = list(word_set)\n",
    "vocab_size = len(vocab)\n",
    "\n",
    "word_doc_list = {}\n",
    "\n",
    "for i in range(len(shuffle_doc_words_list)):\n",
    "    doc_words = shuffle_doc_words_list[i]\n",
    "    words = doc_words.split()\n",
    "    appeared = set()\n",
    "    for word in words:\n",
    "        if word in appeared:\n",
    "            continue\n",
    "        if word in word_doc_list:\n",
    "            doc_list = word_doc_list[word]\n",
    "            doc_list.append(i)\n",
    "            word_doc_list[word] = doc_list\n",
    "        else:\n",
    "            word_doc_list[word] = [i]\n",
    "        appeared.add(word)\n",
    "\n",
    "word_doc_freq = {}\n",
    "for word, doc_list in word_doc_list.items():\n",
    "    word_doc_freq[word] = len(doc_list)\n",
    "\n",
    "word_id_map = {}\n",
    "for i in range(vocab_size):\n",
    "    word_id_map[vocab[i]] = i\n",
    "\n",
    "vocab_str = '\\n'.join(vocab)\n",
    "\n",
    "f = open('pyG_implement/data/corpus/' + dataset + '_vocab.txt', 'w')\n",
    "f.write(vocab_str)\n",
    "f.close()\n",
    "\n",
    "'''\n",
    "Word definitions begin\n",
    "'''\n",
    "'''\n",
    "definitions = []\n",
    "\n",
    "for word in vocab:\n",
    "    word = word.strip()\n",
    "    synsets = wn.synsets(clean_str(word))\n",
    "    word_defs = []\n",
    "    for synset in synsets:\n",
    "        syn_def = synset.definition()\n",
    "        word_defs.append(syn_def)\n",
    "    word_des = ' '.join(word_defs)\n",
    "    if word_des == '':\n",
    "        word_des = '<PAD>'\n",
    "    definitions.append(word_des)\n",
    "\n",
    "string = '\\n'.join(definitions)\n",
    "\n",
    "\n",
    "f = open('pyG_implement/data/corpus/' + dataset + '_vocab_def.txt', 'w')\n",
    "f.write(string)\n",
    "f.close()\n",
    "\n",
    "tfidf_vec = TfidfVectorizer(max_features=1000)\n",
    "tfidf_matrix = tfidf_vec.fit_transform(definitions)\n",
    "tfidf_matrix_array = tfidf_matrix.toarray()\n",
    "print(tfidf_matrix_array[0], len(tfidf_matrix_array[0]))\n",
    "\n",
    "word_vectors = []\n",
    "\n",
    "for i in range(len(vocab)):\n",
    "    word = vocab[i]\n",
    "    vector = tfidf_matrix_array[i]\n",
    "    str_vector = []\n",
    "    for j in range(len(vector)):\n",
    "        str_vector.append(str(vector[j]))\n",
    "    temp = ' '.join(str_vector)\n",
    "    word_vector = word + ' ' + temp\n",
    "    word_vectors.append(word_vector)\n",
    "\n",
    "string = '\\n'.join(word_vectors)\n",
    "\n",
    "f = open('pyG_implement/data/corpus/' + dataset + '_word_vectors.txt', 'w')\n",
    "f.write(string)\n",
    "f.close()\n",
    "\n",
    "word_vector_file = 'pyG_implement/data/corpus/' + dataset + '_word_vectors.txt'\n",
    "_, embd, word_vector_map = loadWord2Vec(word_vector_file)\n",
    "word_embeddings_dim = len(embd[0])\n",
    "'''\n",
    "\n",
    "'''\n",
    "Word definitions end\n",
    "'''\n",
    "\n",
    "# label list\n",
    "label_set = set()\n",
    "for doc_meta in shuffle_doc_name_list:\n",
    "    temp = doc_meta.split('\\t')\n",
    "    label_set.add(temp[2])\n",
    "label_list = list(label_set)\n",
    "\n",
    "label_list_str = '\\n'.join(label_list)\n",
    "f = open('pyG_implement/data/corpus/' + dataset + '_labels.txt', 'w')\n",
    "f.write(label_list_str)\n",
    "f.close()\n",
    "\n",
    "# x: feature vectors of training docs, no initial features\n",
    "# slect 90% training set\n",
    "train_size = len(train_ids)\n",
    "val_size = int(0.1 * train_size)\n",
    "real_train_size = train_size - val_size  # - int(0.5 * train_size)\n",
    "# different training rates\n",
    "\n",
    "real_train_doc_names = shuffle_doc_name_list[:real_train_size]\n",
    "real_train_doc_names_str = '\\n'.join(real_train_doc_names)\n",
    "\n",
    "f = open('pyG_implement/data/' + dataset + '.real_train.name', 'w')\n",
    "f.write(real_train_doc_names_str)\n",
    "f.close()\n",
    "\n",
    "row_x = []\n",
    "col_x = []\n",
    "data_x = []\n",
    "for i in range(real_train_size):\n",
    "    doc_vec = np.array([0.0 for k in range(word_embeddings_dim)])\n",
    "    doc_words = shuffle_doc_words_list[i]\n",
    "    words = doc_words.split()\n",
    "    doc_len = len(words)\n",
    "    for word in words:\n",
    "        if word in word_vector_map:\n",
    "            word_vector = word_vector_map[word]\n",
    "            # print(doc_vec)\n",
    "            # print(np.array(word_vector))\n",
    "            doc_vec = doc_vec + np.array(word_vector)\n",
    "\n",
    "    for j in range(word_embeddings_dim):\n",
    "        row_x.append(i)\n",
    "        col_x.append(j)\n",
    "        # np.random.uniform(-0.25, 0.25)\n",
    "        data_x.append(doc_vec[j] / doc_len)  # doc_vec[j]/ doc_len\n",
    "\n",
    "# x = sp.csr_matrix((real_train_size, word_embeddings_dim), dtype=np.float32)\n",
    "x = sp.csr_matrix((data_x, (row_x, col_x)), shape=(\n",
    "    real_train_size, word_embeddings_dim))\n",
    "\n",
    "y = []\n",
    "for i in range(real_train_size):\n",
    "    doc_meta = shuffle_doc_name_list[i]\n",
    "    temp = doc_meta.split('\\t')\n",
    "    label = temp[2]\n",
    "    one_hot = [0 for l in range(len(label_list))]\n",
    "    label_index = label_list.index(label)\n",
    "    one_hot[label_index] = 1\n",
    "    y.append(one_hot)\n",
    "y = np.array(y)\n",
    "print(y)\n",
    "\n",
    "# tx: feature vectors of test docs, no initial features\n",
    "test_size = len(test_ids)\n",
    "\n",
    "row_tx = []\n",
    "col_tx = []\n",
    "data_tx = []\n",
    "for i in range(test_size):\n",
    "    doc_vec = np.array([0.0 for k in range(word_embeddings_dim)])\n",
    "    doc_words = shuffle_doc_words_list[i + train_size]\n",
    "    words = doc_words.split()\n",
    "    doc_len = len(words)\n",
    "    for word in words:\n",
    "        if word in word_vector_map:\n",
    "            word_vector = word_vector_map[word]\n",
    "            doc_vec = doc_vec + np.array(word_vector)\n",
    "\n",
    "    for j in range(word_embeddings_dim):\n",
    "        row_tx.append(i)\n",
    "        col_tx.append(j)\n",
    "        # np.random.uniform(-0.25, 0.25)\n",
    "        data_tx.append(doc_vec[j] / doc_len)  # doc_vec[j] / doc_len\n",
    "\n",
    "# tx = sp.csr_matrix((test_size, word_embeddings_dim), dtype=np.float32)\n",
    "tx = sp.csr_matrix((data_tx, (row_tx, col_tx)),\n",
    "                   shape=(test_size, word_embeddings_dim))\n",
    "\n",
    "ty = []\n",
    "for i in range(test_size):\n",
    "    doc_meta = shuffle_doc_name_list[i + train_size]\n",
    "    temp = doc_meta.split('\\t')\n",
    "    label = temp[2]\n",
    "    one_hot = [0 for l in range(len(label_list))]\n",
    "    label_index = label_list.index(label)\n",
    "    one_hot[label_index] = 1\n",
    "    ty.append(one_hot)\n",
    "ty = np.array(ty)\n",
    "print(ty)\n",
    "\n",
    "# allx: the the feature vectors of both labeled and unlabeled training instances\n",
    "# (a superset of x)\n",
    "# unlabeled training instances -> words\n",
    "\n",
    "word_vectors = np.random.uniform(-0.01, 0.01,\n",
    "                                 (vocab_size, word_embeddings_dim))\n",
    "\n",
    "for i in range(len(vocab)):\n",
    "    word = vocab[i]\n",
    "    if word in word_vector_map:\n",
    "        vector = word_vector_map[word]\n",
    "        word_vectors[i] = vector\n",
    "\n",
    "row_allx = []\n",
    "col_allx = []\n",
    "data_allx = []\n",
    "\n",
    "for i in range(train_size):\n",
    "    doc_vec = np.array([0.0 for k in range(word_embeddings_dim)])\n",
    "    doc_words = shuffle_doc_words_list[i]\n",
    "    words = doc_words.split()\n",
    "    doc_len = len(words)\n",
    "    for word in words:\n",
    "        if word in word_vector_map:\n",
    "            word_vector = word_vector_map[word]\n",
    "            doc_vec = doc_vec + np.array(word_vector)\n",
    "\n",
    "    for j in range(word_embeddings_dim):\n",
    "        row_allx.append(int(i))\n",
    "        col_allx.append(j)\n",
    "        # np.random.uniform(-0.25, 0.25)\n",
    "        data_allx.append(doc_vec[j] / doc_len)  # doc_vec[j]/doc_len\n",
    "for i in range(vocab_size):\n",
    "    for j in range(word_embeddings_dim):\n",
    "        row_allx.append(int(i + train_size))\n",
    "        col_allx.append(j)\n",
    "        data_allx.append(word_vectors.item((i, j)))\n",
    "\n",
    "\n",
    "row_allx = np.array(row_allx)\n",
    "col_allx = np.array(col_allx)\n",
    "data_allx = np.array(data_allx)\n",
    "\n",
    "allx = sp.csr_matrix(\n",
    "    (data_allx, (row_allx, col_allx)), shape=(train_size + vocab_size, word_embeddings_dim))\n",
    "\n",
    "ally = []\n",
    "for i in range(train_size):\n",
    "    doc_meta = shuffle_doc_name_list[i]\n",
    "    temp = doc_meta.split('\\t')\n",
    "    label = temp[2]\n",
    "    one_hot = [0 for l in range(len(label_list))]\n",
    "    label_index = label_list.index(label)\n",
    "    one_hot[label_index] = 1\n",
    "    ally.append(one_hot)\n",
    "\n",
    "for i in range(vocab_size):\n",
    "    one_hot = [0 for l in range(len(label_list))]\n",
    "    ally.append(one_hot)\n",
    "\n",
    "ally = np.array(ally)\n",
    "\n",
    "print(x.shape, y.shape, tx.shape, ty.shape, allx.shape, ally.shape)\n",
    "\n",
    "'''\n",
    "Doc word heterogeneous graph\n",
    "'''\n",
    "\n",
    "# word co-occurence with context windows\n",
    "window_size = 20\n",
    "windows = []\n",
    "\n",
    "for doc_words in shuffle_doc_words_list:\n",
    "    words = doc_words.split()\n",
    "    length = len(words)\n",
    "    if length <= window_size:\n",
    "        windows.append(words)\n",
    "    else:\n",
    "        # print(length, length - window_size + 1)\n",
    "        for j in range(length - window_size + 1):\n",
    "            window = words[j: j + window_size]\n",
    "            windows.append(window)\n",
    "            # print(window)\n",
    "\n",
    "\n",
    "word_window_freq = {}\n",
    "for window in windows:\n",
    "    appeared = set()\n",
    "    for i in range(len(window)):\n",
    "        if window[i] in appeared:\n",
    "            continue\n",
    "        if window[i] in word_window_freq:\n",
    "            word_window_freq[window[i]] += 1\n",
    "        else:\n",
    "            word_window_freq[window[i]] = 1\n",
    "        appeared.add(window[i])\n",
    "\n",
    "word_pair_count = {}\n",
    "for window in windows:\n",
    "    for i in range(1, len(window)):\n",
    "        for j in range(0, i):\n",
    "            word_i = window[i]\n",
    "            word_i_id = word_id_map[word_i]\n",
    "            word_j = window[j]\n",
    "            word_j_id = word_id_map[word_j]\n",
    "            if word_i_id == word_j_id:\n",
    "                continue\n",
    "            word_pair_str = str(word_i_id) + ',' + str(word_j_id)\n",
    "            if word_pair_str in word_pair_count:\n",
    "                word_pair_count[word_pair_str] += 1\n",
    "            else:\n",
    "                word_pair_count[word_pair_str] = 1\n",
    "            # two orders\n",
    "            word_pair_str = str(word_j_id) + ',' + str(word_i_id)\n",
    "            if word_pair_str in word_pair_count:\n",
    "                word_pair_count[word_pair_str] += 1\n",
    "            else:\n",
    "                word_pair_count[word_pair_str] = 1\n",
    "\n",
    "row = []\n",
    "col = []\n",
    "weight = []\n",
    "\n",
    "# pmi as weights\n",
    "\n",
    "num_window = len(windows)\n",
    "\n",
    "for key in word_pair_count:\n",
    "    temp = key.split(',')\n",
    "    i = int(temp[0])\n",
    "    j = int(temp[1])\n",
    "    count = word_pair_count[key]\n",
    "    word_freq_i = word_window_freq[vocab[i]]\n",
    "    word_freq_j = word_window_freq[vocab[j]]\n",
    "    pmi = log((1.0 * count / num_window) /\n",
    "              (1.0 * word_freq_i * word_freq_j/(num_window * num_window)))\n",
    "    if pmi <= 0:\n",
    "        continue\n",
    "    row.append(train_size + i)\n",
    "    col.append(train_size + j)\n",
    "    weight.append(pmi)\n",
    "\n",
    "# word vector cosine similarity as weights\n",
    "\n",
    "'''\n",
    "for i in range(vocab_size):\n",
    "    for j in range(vocab_size):\n",
    "        if vocab[i] in word_vector_map and vocab[j] in word_vector_map:\n",
    "            vector_i = np.array(word_vector_map[vocab[i]])\n",
    "            vector_j = np.array(word_vector_map[vocab[j]])\n",
    "            similarity = 1.0 - cosine(vector_i, vector_j)\n",
    "            if similarity > 0.9:\n",
    "                print(vocab[i], vocab[j], similarity)\n",
    "                row.append(train_size + i)\n",
    "                col.append(train_size + j)\n",
    "                weight.append(similarity)\n",
    "'''\n",
    "# doc word frequency\n",
    "doc_word_freq = {}\n",
    "\n",
    "for doc_id in range(len(shuffle_doc_words_list)):\n",
    "    doc_words = shuffle_doc_words_list[doc_id]\n",
    "    words = doc_words.split()\n",
    "    for word in words:\n",
    "        word_id = word_id_map[word]\n",
    "        doc_word_str = str(doc_id) + ',' + str(word_id)\n",
    "        if doc_word_str in doc_word_freq:\n",
    "            doc_word_freq[doc_word_str] += 1\n",
    "        else:\n",
    "            doc_word_freq[doc_word_str] = 1\n",
    "\n",
    "for i in range(len(shuffle_doc_words_list)):\n",
    "    doc_words = shuffle_doc_words_list[i]\n",
    "    words = doc_words.split()\n",
    "    doc_word_set = set()\n",
    "    for word in words:\n",
    "        if word in doc_word_set:\n",
    "            continue\n",
    "        j = word_id_map[word]\n",
    "        key = str(i) + ',' + str(j)\n",
    "        freq = doc_word_freq[key]\n",
    "        if i < train_size:\n",
    "            row.append(i)\n",
    "        else:\n",
    "            row.append(i + vocab_size)\n",
    "        col.append(train_size + j)\n",
    "        idf = log(1.0 * len(shuffle_doc_words_list) /\n",
    "                  word_doc_freq[vocab[j]])\n",
    "        weight.append(freq * idf)\n",
    "        doc_word_set.add(word)\n",
    "\n",
    "node_size = train_size + vocab_size + test_size\n",
    "adj = sp.csr_matrix(\n",
    "    (weight, (row, col)), shape=(node_size, node_size))\n",
    "\n",
    "# dump objects\n",
    "f = open(\"pyG_implement/data/ind.{}.x\".format(dataset), 'wb')\n",
    "pkl.dump(x, f)\n",
    "f.close()\n",
    "\n",
    "f = open(\"pyG_implement/data/ind.{}.y\".format(dataset), 'wb')\n",
    "pkl.dump(y, f)\n",
    "f.close()\n",
    "\n",
    "f = open(\"pyG_implement/data/ind.{}.tx\".format(dataset), 'wb')\n",
    "pkl.dump(tx, f)\n",
    "f.close()\n",
    "\n",
    "f = open(\"pyG_implement/data/ind.{}.ty\".format(dataset), 'wb')\n",
    "pkl.dump(ty, f)\n",
    "f.close()\n",
    "\n",
    "f = open(\"pyG_implement/data/ind.{}.allx\".format(dataset), 'wb')\n",
    "pkl.dump(allx, f)\n",
    "f.close()\n",
    "\n",
    "f = open(\"pyG_implement/data/ind.{}.ally\".format(dataset), 'wb')\n",
    "pkl.dump(ally, f)\n",
    "f.close()\n",
    "\n",
    "f = open(\"pyG_implement/data/ind.{}.adj\".format(dataset), 'wb')\n",
    "pkl.dump(adj, f)\n",
    "f.close()\n"
   ]
  },
  {
   "cell_type": "code",
   "execution_count": null,
   "metadata": {},
   "outputs": [],
   "source": []
  }
 ],
 "metadata": {
  "kernelspec": {
   "display_name": "Python 3",
   "language": "python",
   "name": "python3"
  },
  "language_info": {
   "codemirror_mode": {
    "name": "ipython",
    "version": 3
   },
   "file_extension": ".py",
   "mimetype": "text/x-python",
   "name": "python",
   "nbconvert_exporter": "python",
   "pygments_lexer": "ipython3",
   "version": "3.7.9"
  }
 },
 "nbformat": 4,
 "nbformat_minor": 4
}
